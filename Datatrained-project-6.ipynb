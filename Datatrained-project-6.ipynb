{
 "cells": [
  {
   "cell_type": "code",
   "execution_count": 143,
   "metadata": {},
   "outputs": [],
   "source": [
    "import numpy as np\n",
    "import pandas as pd\n",
    "import matplotlib.pyplot as plt\n",
    "from sklearn.linear_model import LogisticRegression\n",
    "from sklearn.linear_model import LinearRegression\n",
    "from sklearn.naive_bayes import MultinomialNB,GaussianNB\n",
    "from sklearn.naive_bayes import GaussianNB\n",
    "from sklearn.svm import SVC\n",
    "from sklearn.tree import DecisionTreeClassifier\n",
    "from sklearn.neighbors import KNeighborsClassifier\n",
    "from sklearn.metrics import mean_squared_error,mean_absolute_error\n",
    "from sklearn.model_selection import train_test_split\n",
    "from sklearn.metrics import confusion_matrix,classification_report\n",
    "from sklearn.metrics import accuracy_score\n",
    "import warnings\n",
    "warnings.filterwarnings('ignore')"
   ]
  },
  {
   "cell_type": "code",
   "execution_count": 144,
   "metadata": {},
   "outputs": [
    {
     "data": {
      "text/html": [
       "<div>\n",
       "<style scoped>\n",
       "    .dataframe tbody tr th:only-of-type {\n",
       "        vertical-align: middle;\n",
       "    }\n",
       "\n",
       "    .dataframe tbody tr th {\n",
       "        vertical-align: top;\n",
       "    }\n",
       "\n",
       "    .dataframe thead th {\n",
       "        text-align: right;\n",
       "    }\n",
       "</style>\n",
       "<table border=\"1\" class=\"dataframe\">\n",
       "  <thead>\n",
       "    <tr style=\"text-align: right;\">\n",
       "      <th></th>\n",
       "      <th>Unnamed: 0</th>\n",
       "      <th>TV</th>\n",
       "      <th>radio</th>\n",
       "      <th>newspaper</th>\n",
       "      <th>sales</th>\n",
       "    </tr>\n",
       "  </thead>\n",
       "  <tbody>\n",
       "    <tr>\n",
       "      <td>0</td>\n",
       "      <td>1</td>\n",
       "      <td>230.1</td>\n",
       "      <td>37.8</td>\n",
       "      <td>69.2</td>\n",
       "      <td>22.1</td>\n",
       "    </tr>\n",
       "    <tr>\n",
       "      <td>1</td>\n",
       "      <td>2</td>\n",
       "      <td>44.5</td>\n",
       "      <td>39.3</td>\n",
       "      <td>45.1</td>\n",
       "      <td>10.4</td>\n",
       "    </tr>\n",
       "    <tr>\n",
       "      <td>2</td>\n",
       "      <td>3</td>\n",
       "      <td>17.2</td>\n",
       "      <td>45.9</td>\n",
       "      <td>69.3</td>\n",
       "      <td>9.3</td>\n",
       "    </tr>\n",
       "    <tr>\n",
       "      <td>3</td>\n",
       "      <td>4</td>\n",
       "      <td>151.5</td>\n",
       "      <td>41.3</td>\n",
       "      <td>58.5</td>\n",
       "      <td>18.5</td>\n",
       "    </tr>\n",
       "    <tr>\n",
       "      <td>4</td>\n",
       "      <td>5</td>\n",
       "      <td>180.8</td>\n",
       "      <td>10.8</td>\n",
       "      <td>58.4</td>\n",
       "      <td>12.9</td>\n",
       "    </tr>\n",
       "    <tr>\n",
       "      <td>...</td>\n",
       "      <td>...</td>\n",
       "      <td>...</td>\n",
       "      <td>...</td>\n",
       "      <td>...</td>\n",
       "      <td>...</td>\n",
       "    </tr>\n",
       "    <tr>\n",
       "      <td>195</td>\n",
       "      <td>196</td>\n",
       "      <td>38.2</td>\n",
       "      <td>3.7</td>\n",
       "      <td>13.8</td>\n",
       "      <td>7.6</td>\n",
       "    </tr>\n",
       "    <tr>\n",
       "      <td>196</td>\n",
       "      <td>197</td>\n",
       "      <td>94.2</td>\n",
       "      <td>4.9</td>\n",
       "      <td>8.1</td>\n",
       "      <td>9.7</td>\n",
       "    </tr>\n",
       "    <tr>\n",
       "      <td>197</td>\n",
       "      <td>198</td>\n",
       "      <td>177.0</td>\n",
       "      <td>9.3</td>\n",
       "      <td>6.4</td>\n",
       "      <td>12.8</td>\n",
       "    </tr>\n",
       "    <tr>\n",
       "      <td>198</td>\n",
       "      <td>199</td>\n",
       "      <td>283.6</td>\n",
       "      <td>42.0</td>\n",
       "      <td>66.2</td>\n",
       "      <td>25.5</td>\n",
       "    </tr>\n",
       "    <tr>\n",
       "      <td>199</td>\n",
       "      <td>200</td>\n",
       "      <td>232.1</td>\n",
       "      <td>8.6</td>\n",
       "      <td>8.7</td>\n",
       "      <td>13.4</td>\n",
       "    </tr>\n",
       "  </tbody>\n",
       "</table>\n",
       "<p>200 rows × 5 columns</p>\n",
       "</div>"
      ],
      "text/plain": [
       "     Unnamed: 0     TV  radio  newspaper  sales\n",
       "0             1  230.1   37.8       69.2   22.1\n",
       "1             2   44.5   39.3       45.1   10.4\n",
       "2             3   17.2   45.9       69.3    9.3\n",
       "3             4  151.5   41.3       58.5   18.5\n",
       "4             5  180.8   10.8       58.4   12.9\n",
       "..          ...    ...    ...        ...    ...\n",
       "195         196   38.2    3.7       13.8    7.6\n",
       "196         197   94.2    4.9        8.1    9.7\n",
       "197         198  177.0    9.3        6.4   12.8\n",
       "198         199  283.6   42.0       66.2   25.5\n",
       "199         200  232.1    8.6        8.7   13.4\n",
       "\n",
       "[200 rows x 5 columns]"
      ]
     },
     "execution_count": 144,
     "metadata": {},
     "output_type": "execute_result"
    }
   ],
   "source": [
    "data = pd.read_csv('Advertising.csv')\n",
    "data"
   ]
  },
  {
   "cell_type": "code",
   "execution_count": 145,
   "metadata": {},
   "outputs": [],
   "source": [
    "data.drop(['Unnamed: 0'],axis=1,inplace=True)"
   ]
  },
  {
   "cell_type": "code",
   "execution_count": 146,
   "metadata": {},
   "outputs": [
    {
     "data": {
      "text/html": [
       "<div>\n",
       "<style scoped>\n",
       "    .dataframe tbody tr th:only-of-type {\n",
       "        vertical-align: middle;\n",
       "    }\n",
       "\n",
       "    .dataframe tbody tr th {\n",
       "        vertical-align: top;\n",
       "    }\n",
       "\n",
       "    .dataframe thead th {\n",
       "        text-align: right;\n",
       "    }\n",
       "</style>\n",
       "<table border=\"1\" class=\"dataframe\">\n",
       "  <thead>\n",
       "    <tr style=\"text-align: right;\">\n",
       "      <th></th>\n",
       "      <th>TV</th>\n",
       "      <th>radio</th>\n",
       "      <th>newspaper</th>\n",
       "      <th>sales</th>\n",
       "    </tr>\n",
       "  </thead>\n",
       "  <tbody>\n",
       "    <tr>\n",
       "      <td>0</td>\n",
       "      <td>230.1</td>\n",
       "      <td>37.8</td>\n",
       "      <td>69.2</td>\n",
       "      <td>22.1</td>\n",
       "    </tr>\n",
       "    <tr>\n",
       "      <td>1</td>\n",
       "      <td>44.5</td>\n",
       "      <td>39.3</td>\n",
       "      <td>45.1</td>\n",
       "      <td>10.4</td>\n",
       "    </tr>\n",
       "    <tr>\n",
       "      <td>2</td>\n",
       "      <td>17.2</td>\n",
       "      <td>45.9</td>\n",
       "      <td>69.3</td>\n",
       "      <td>9.3</td>\n",
       "    </tr>\n",
       "    <tr>\n",
       "      <td>3</td>\n",
       "      <td>151.5</td>\n",
       "      <td>41.3</td>\n",
       "      <td>58.5</td>\n",
       "      <td>18.5</td>\n",
       "    </tr>\n",
       "    <tr>\n",
       "      <td>4</td>\n",
       "      <td>180.8</td>\n",
       "      <td>10.8</td>\n",
       "      <td>58.4</td>\n",
       "      <td>12.9</td>\n",
       "    </tr>\n",
       "    <tr>\n",
       "      <td>...</td>\n",
       "      <td>...</td>\n",
       "      <td>...</td>\n",
       "      <td>...</td>\n",
       "      <td>...</td>\n",
       "    </tr>\n",
       "    <tr>\n",
       "      <td>195</td>\n",
       "      <td>38.2</td>\n",
       "      <td>3.7</td>\n",
       "      <td>13.8</td>\n",
       "      <td>7.6</td>\n",
       "    </tr>\n",
       "    <tr>\n",
       "      <td>196</td>\n",
       "      <td>94.2</td>\n",
       "      <td>4.9</td>\n",
       "      <td>8.1</td>\n",
       "      <td>9.7</td>\n",
       "    </tr>\n",
       "    <tr>\n",
       "      <td>197</td>\n",
       "      <td>177.0</td>\n",
       "      <td>9.3</td>\n",
       "      <td>6.4</td>\n",
       "      <td>12.8</td>\n",
       "    </tr>\n",
       "    <tr>\n",
       "      <td>198</td>\n",
       "      <td>283.6</td>\n",
       "      <td>42.0</td>\n",
       "      <td>66.2</td>\n",
       "      <td>25.5</td>\n",
       "    </tr>\n",
       "    <tr>\n",
       "      <td>199</td>\n",
       "      <td>232.1</td>\n",
       "      <td>8.6</td>\n",
       "      <td>8.7</td>\n",
       "      <td>13.4</td>\n",
       "    </tr>\n",
       "  </tbody>\n",
       "</table>\n",
       "<p>200 rows × 4 columns</p>\n",
       "</div>"
      ],
      "text/plain": [
       "        TV  radio  newspaper  sales\n",
       "0    230.1   37.8       69.2   22.1\n",
       "1     44.5   39.3       45.1   10.4\n",
       "2     17.2   45.9       69.3    9.3\n",
       "3    151.5   41.3       58.5   18.5\n",
       "4    180.8   10.8       58.4   12.9\n",
       "..     ...    ...        ...    ...\n",
       "195   38.2    3.7       13.8    7.6\n",
       "196   94.2    4.9        8.1    9.7\n",
       "197  177.0    9.3        6.4   12.8\n",
       "198  283.6   42.0       66.2   25.5\n",
       "199  232.1    8.6        8.7   13.4\n",
       "\n",
       "[200 rows x 4 columns]"
      ]
     },
     "execution_count": 146,
     "metadata": {},
     "output_type": "execute_result"
    }
   ],
   "source": [
    "data"
   ]
  },
  {
   "cell_type": "markdown",
   "metadata": {},
   "source": [
    "## Exploratory Data Analysis"
   ]
  },
  {
   "cell_type": "code",
   "execution_count": 147,
   "metadata": {},
   "outputs": [
    {
     "data": {
      "text/html": [
       "<div>\n",
       "<style scoped>\n",
       "    .dataframe tbody tr th:only-of-type {\n",
       "        vertical-align: middle;\n",
       "    }\n",
       "\n",
       "    .dataframe tbody tr th {\n",
       "        vertical-align: top;\n",
       "    }\n",
       "\n",
       "    .dataframe thead th {\n",
       "        text-align: right;\n",
       "    }\n",
       "</style>\n",
       "<table border=\"1\" class=\"dataframe\">\n",
       "  <thead>\n",
       "    <tr style=\"text-align: right;\">\n",
       "      <th></th>\n",
       "      <th>TV</th>\n",
       "      <th>radio</th>\n",
       "      <th>newspaper</th>\n",
       "      <th>sales</th>\n",
       "    </tr>\n",
       "  </thead>\n",
       "  <tbody>\n",
       "    <tr>\n",
       "      <td>0</td>\n",
       "      <td>230.1</td>\n",
       "      <td>37.8</td>\n",
       "      <td>69.2</td>\n",
       "      <td>22.1</td>\n",
       "    </tr>\n",
       "    <tr>\n",
       "      <td>1</td>\n",
       "      <td>44.5</td>\n",
       "      <td>39.3</td>\n",
       "      <td>45.1</td>\n",
       "      <td>10.4</td>\n",
       "    </tr>\n",
       "    <tr>\n",
       "      <td>2</td>\n",
       "      <td>17.2</td>\n",
       "      <td>45.9</td>\n",
       "      <td>69.3</td>\n",
       "      <td>9.3</td>\n",
       "    </tr>\n",
       "    <tr>\n",
       "      <td>3</td>\n",
       "      <td>151.5</td>\n",
       "      <td>41.3</td>\n",
       "      <td>58.5</td>\n",
       "      <td>18.5</td>\n",
       "    </tr>\n",
       "    <tr>\n",
       "      <td>4</td>\n",
       "      <td>180.8</td>\n",
       "      <td>10.8</td>\n",
       "      <td>58.4</td>\n",
       "      <td>12.9</td>\n",
       "    </tr>\n",
       "  </tbody>\n",
       "</table>\n",
       "</div>"
      ],
      "text/plain": [
       "      TV  radio  newspaper  sales\n",
       "0  230.1   37.8       69.2   22.1\n",
       "1   44.5   39.3       45.1   10.4\n",
       "2   17.2   45.9       69.3    9.3\n",
       "3  151.5   41.3       58.5   18.5\n",
       "4  180.8   10.8       58.4   12.9"
      ]
     },
     "execution_count": 147,
     "metadata": {},
     "output_type": "execute_result"
    }
   ],
   "source": [
    "data.head()"
   ]
  },
  {
   "cell_type": "code",
   "execution_count": 148,
   "metadata": {},
   "outputs": [
    {
     "data": {
      "text/html": [
       "<div>\n",
       "<style scoped>\n",
       "    .dataframe tbody tr th:only-of-type {\n",
       "        vertical-align: middle;\n",
       "    }\n",
       "\n",
       "    .dataframe tbody tr th {\n",
       "        vertical-align: top;\n",
       "    }\n",
       "\n",
       "    .dataframe thead th {\n",
       "        text-align: right;\n",
       "    }\n",
       "</style>\n",
       "<table border=\"1\" class=\"dataframe\">\n",
       "  <thead>\n",
       "    <tr style=\"text-align: right;\">\n",
       "      <th></th>\n",
       "      <th>TV</th>\n",
       "      <th>radio</th>\n",
       "      <th>newspaper</th>\n",
       "      <th>sales</th>\n",
       "    </tr>\n",
       "  </thead>\n",
       "  <tbody>\n",
       "    <tr>\n",
       "      <td>195</td>\n",
       "      <td>38.2</td>\n",
       "      <td>3.7</td>\n",
       "      <td>13.8</td>\n",
       "      <td>7.6</td>\n",
       "    </tr>\n",
       "    <tr>\n",
       "      <td>196</td>\n",
       "      <td>94.2</td>\n",
       "      <td>4.9</td>\n",
       "      <td>8.1</td>\n",
       "      <td>9.7</td>\n",
       "    </tr>\n",
       "    <tr>\n",
       "      <td>197</td>\n",
       "      <td>177.0</td>\n",
       "      <td>9.3</td>\n",
       "      <td>6.4</td>\n",
       "      <td>12.8</td>\n",
       "    </tr>\n",
       "    <tr>\n",
       "      <td>198</td>\n",
       "      <td>283.6</td>\n",
       "      <td>42.0</td>\n",
       "      <td>66.2</td>\n",
       "      <td>25.5</td>\n",
       "    </tr>\n",
       "    <tr>\n",
       "      <td>199</td>\n",
       "      <td>232.1</td>\n",
       "      <td>8.6</td>\n",
       "      <td>8.7</td>\n",
       "      <td>13.4</td>\n",
       "    </tr>\n",
       "  </tbody>\n",
       "</table>\n",
       "</div>"
      ],
      "text/plain": [
       "        TV  radio  newspaper  sales\n",
       "195   38.2    3.7       13.8    7.6\n",
       "196   94.2    4.9        8.1    9.7\n",
       "197  177.0    9.3        6.4   12.8\n",
       "198  283.6   42.0       66.2   25.5\n",
       "199  232.1    8.6        8.7   13.4"
      ]
     },
     "execution_count": 148,
     "metadata": {},
     "output_type": "execute_result"
    }
   ],
   "source": [
    "data.tail()"
   ]
  },
  {
   "cell_type": "markdown",
   "metadata": {},
   "source": [
    "#### Lets check the null values without using visualization"
   ]
  },
  {
   "cell_type": "code",
   "execution_count": 149,
   "metadata": {},
   "outputs": [
    {
     "data": {
      "text/plain": [
       "TV           0\n",
       "radio        0\n",
       "newspaper    0\n",
       "sales        0\n",
       "dtype: int64"
      ]
     },
     "execution_count": 149,
     "metadata": {},
     "output_type": "execute_result"
    }
   ],
   "source": [
    "data.isnull().sum()"
   ]
  },
  {
   "cell_type": "code",
   "execution_count": 150,
   "metadata": {},
   "outputs": [
    {
     "data": {
      "image/png": "[encoded data removed]",
      "text/plain": [
       "<Figure size 432x288 with 2 Axes>"
      ]
     },
     "metadata": {
      "needs_background": "light"
     },
     "output_type": "display_data"
    }
   ],
   "source": [
    "#Check the Null value through graph\n",
    "import matplotlib.pyplot as plt\n",
    "import seaborn as sns\n",
    "sns.heatmap(data.isnull())\n",
    "plt.show()"
   ]
  },
  {
   "cell_type": "code",
   "execution_count": 151,
   "metadata": {},
   "outputs": [
    {
     "data": {
      "text/html": [
       "<div>\n",
       "<style scoped>\n",
       "    .dataframe tbody tr th:only-of-type {\n",
       "        vertical-align: middle;\n",
       "    }\n",
       "\n",
       "    .dataframe tbody tr th {\n",
       "        vertical-align: top;\n",
       "    }\n",
       "\n",
       "    .dataframe thead th {\n",
       "        text-align: right;\n",
       "    }\n",
       "</style>\n",
       "<table border=\"1\" class=\"dataframe\">\n",
       "  <thead>\n",
       "    <tr style=\"text-align: right;\">\n",
       "      <th></th>\n",
       "      <th>TV</th>\n",
       "      <th>radio</th>\n",
       "      <th>newspaper</th>\n",
       "      <th>sales</th>\n",
       "    </tr>\n",
       "  </thead>\n",
       "  <tbody>\n",
       "    <tr>\n",
       "      <td>0</td>\n",
       "      <td>230.1</td>\n",
       "      <td>37.8</td>\n",
       "      <td>69.2</td>\n",
       "      <td>22.1</td>\n",
       "    </tr>\n",
       "    <tr>\n",
       "      <td>1</td>\n",
       "      <td>44.5</td>\n",
       "      <td>39.3</td>\n",
       "      <td>45.1</td>\n",
       "      <td>10.4</td>\n",
       "    </tr>\n",
       "    <tr>\n",
       "      <td>2</td>\n",
       "      <td>17.2</td>\n",
       "      <td>45.9</td>\n",
       "      <td>69.3</td>\n",
       "      <td>9.3</td>\n",
       "    </tr>\n",
       "    <tr>\n",
       "      <td>3</td>\n",
       "      <td>151.5</td>\n",
       "      <td>41.3</td>\n",
       "      <td>58.5</td>\n",
       "      <td>18.5</td>\n",
       "    </tr>\n",
       "    <tr>\n",
       "      <td>4</td>\n",
       "      <td>180.8</td>\n",
       "      <td>10.8</td>\n",
       "      <td>58.4</td>\n",
       "      <td>12.9</td>\n",
       "    </tr>\n",
       "    <tr>\n",
       "      <td>...</td>\n",
       "      <td>...</td>\n",
       "      <td>...</td>\n",
       "      <td>...</td>\n",
       "      <td>...</td>\n",
       "    </tr>\n",
       "    <tr>\n",
       "      <td>195</td>\n",
       "      <td>38.2</td>\n",
       "      <td>3.7</td>\n",
       "      <td>13.8</td>\n",
       "      <td>7.6</td>\n",
       "    </tr>\n",
       "    <tr>\n",
       "      <td>196</td>\n",
       "      <td>94.2</td>\n",
       "      <td>4.9</td>\n",
       "      <td>8.1</td>\n",
       "      <td>9.7</td>\n",
       "    </tr>\n",
       "    <tr>\n",
       "      <td>197</td>\n",
       "      <td>177.0</td>\n",
       "      <td>9.3</td>\n",
       "      <td>6.4</td>\n",
       "      <td>12.8</td>\n",
       "    </tr>\n",
       "    <tr>\n",
       "      <td>198</td>\n",
       "      <td>283.6</td>\n",
       "      <td>42.0</td>\n",
       "      <td>66.2</td>\n",
       "      <td>25.5</td>\n",
       "    </tr>\n",
       "    <tr>\n",
       "      <td>199</td>\n",
       "      <td>232.1</td>\n",
       "      <td>8.6</td>\n",
       "      <td>8.7</td>\n",
       "      <td>13.4</td>\n",
       "    </tr>\n",
       "  </tbody>\n",
       "</table>\n",
       "<p>200 rows × 4 columns</p>\n",
       "</div>"
      ],
      "text/plain": [
       "        TV  radio  newspaper  sales\n",
       "0    230.1   37.8       69.2   22.1\n",
       "1     44.5   39.3       45.1   10.4\n",
       "2     17.2   45.9       69.3    9.3\n",
       "3    151.5   41.3       58.5   18.5\n",
       "4    180.8   10.8       58.4   12.9\n",
       "..     ...    ...        ...    ...\n",
       "195   38.2    3.7       13.8    7.6\n",
       "196   94.2    4.9        8.1    9.7\n",
       "197  177.0    9.3        6.4   12.8\n",
       "198  283.6   42.0       66.2   25.5\n",
       "199  232.1    8.6        8.7   13.4\n",
       "\n",
       "[200 rows x 4 columns]"
      ]
     },
     "execution_count": 151,
     "metadata": {},
     "output_type": "execute_result"
    }
   ],
   "source": [
    "data = pd.DataFrame(data=data)\n",
    "data"
   ]
  },
  {
   "cell_type": "code",
   "execution_count": 152,
   "metadata": {},
   "outputs": [
    {
     "data": {
      "text/plain": [
       "(200, 4)"
      ]
     },
     "execution_count": 152,
     "metadata": {},
     "output_type": "execute_result"
    }
   ],
   "source": [
    "data.shape"
   ]
  },
  {
   "cell_type": "code",
   "execution_count": 153,
   "metadata": {},
   "outputs": [
    {
     "data": {
      "text/plain": [
       "TV           float64\n",
       "radio        float64\n",
       "newspaper    float64\n",
       "sales        float64\n",
       "dtype: object"
      ]
     },
     "execution_count": 153,
     "metadata": {},
     "output_type": "execute_result"
    }
   ],
   "source": [
    "data.dtypes"
   ]
  },
  {
   "cell_type": "code",
   "execution_count": 154,
   "metadata": {},
   "outputs": [
    {
     "data": {
      "text/html": [
       "<div>\n",
       "<style scoped>\n",
       "    .dataframe tbody tr th:only-of-type {\n",
       "        vertical-align: middle;\n",
       "    }\n",
       "\n",
       "    .dataframe tbody tr th {\n",
       "        vertical-align: top;\n",
       "    }\n",
       "\n",
       "    .dataframe thead th {\n",
       "        text-align: right;\n",
       "    }\n",
       "</style>\n",
       "<table border=\"1\" class=\"dataframe\">\n",
       "  <thead>\n",
       "    <tr style=\"text-align: right;\">\n",
       "      <th></th>\n",
       "      <th>TV</th>\n",
       "      <th>radio</th>\n",
       "      <th>newspaper</th>\n",
       "      <th>sales</th>\n",
       "    </tr>\n",
       "  </thead>\n",
       "  <tbody>\n",
       "    <tr>\n",
       "      <td>count</td>\n",
       "      <td>200.000000</td>\n",
       "      <td>200.000000</td>\n",
       "      <td>200.000000</td>\n",
       "      <td>200.000000</td>\n",
       "    </tr>\n",
       "    <tr>\n",
       "      <td>mean</td>\n",
       "      <td>147.042500</td>\n",
       "      <td>23.264000</td>\n",
       "      <td>30.554000</td>\n",
       "      <td>14.022500</td>\n",
       "    </tr>\n",
       "    <tr>\n",
       "      <td>std</td>\n",
       "      <td>85.854236</td>\n",
       "      <td>14.846809</td>\n",
       "      <td>21.778621</td>\n",
       "      <td>5.217457</td>\n",
       "    </tr>\n",
       "    <tr>\n",
       "      <td>min</td>\n",
       "      <td>0.700000</td>\n",
       "      <td>0.000000</td>\n",
       "      <td>0.300000</td>\n",
       "      <td>1.600000</td>\n",
       "    </tr>\n",
       "    <tr>\n",
       "      <td>25%</td>\n",
       "      <td>74.375000</td>\n",
       "      <td>9.975000</td>\n",
       "      <td>12.750000</td>\n",
       "      <td>10.375000</td>\n",
       "    </tr>\n",
       "    <tr>\n",
       "      <td>50%</td>\n",
       "      <td>149.750000</td>\n",
       "      <td>22.900000</td>\n",
       "      <td>25.750000</td>\n",
       "      <td>12.900000</td>\n",
       "    </tr>\n",
       "    <tr>\n",
       "      <td>75%</td>\n",
       "      <td>218.825000</td>\n",
       "      <td>36.525000</td>\n",
       "      <td>45.100000</td>\n",
       "      <td>17.400000</td>\n",
       "    </tr>\n",
       "    <tr>\n",
       "      <td>max</td>\n",
       "      <td>296.400000</td>\n",
       "      <td>49.600000</td>\n",
       "      <td>114.000000</td>\n",
       "      <td>27.000000</td>\n",
       "    </tr>\n",
       "  </tbody>\n",
       "</table>\n",
       "</div>"
      ],
      "text/plain": [
       "               TV       radio   newspaper       sales\n",
       "count  200.000000  200.000000  200.000000  200.000000\n",
       "mean   147.042500   23.264000   30.554000   14.022500\n",
       "std     85.854236   14.846809   21.778621    5.217457\n",
       "min      0.700000    0.000000    0.300000    1.600000\n",
       "25%     74.375000    9.975000   12.750000   10.375000\n",
       "50%    149.750000   22.900000   25.750000   12.900000\n",
       "75%    218.825000   36.525000   45.100000   17.400000\n",
       "max    296.400000   49.600000  114.000000   27.000000"
      ]
     },
     "execution_count": 154,
     "metadata": {},
     "output_type": "execute_result"
    }
   ],
   "source": [
    "data.describe()"
   ]
  },
  {
   "cell_type": "code",
   "execution_count": 155,
   "metadata": {},
   "outputs": [
    {
     "data": {
      "text/html": [
       "<div>\n",
       "<style scoped>\n",
       "    .dataframe tbody tr th:only-of-type {\n",
       "        vertical-align: middle;\n",
       "    }\n",
       "\n",
       "    .dataframe tbody tr th {\n",
       "        vertical-align: top;\n",
       "    }\n",
       "\n",
       "    .dataframe thead th {\n",
       "        text-align: right;\n",
       "    }\n",
       "</style>\n",
       "<table border=\"1\" class=\"dataframe\">\n",
       "  <thead>\n",
       "    <tr style=\"text-align: right;\">\n",
       "      <th></th>\n",
       "      <th>TV</th>\n",
       "      <th>radio</th>\n",
       "      <th>newspaper</th>\n",
       "      <th>sales</th>\n",
       "    </tr>\n",
       "  </thead>\n",
       "  <tbody>\n",
       "    <tr>\n",
       "      <td>0</td>\n",
       "      <td>230.1</td>\n",
       "      <td>37.8</td>\n",
       "      <td>69.2</td>\n",
       "      <td>22.1</td>\n",
       "    </tr>\n",
       "    <tr>\n",
       "      <td>1</td>\n",
       "      <td>44.5</td>\n",
       "      <td>39.3</td>\n",
       "      <td>45.1</td>\n",
       "      <td>10.4</td>\n",
       "    </tr>\n",
       "    <tr>\n",
       "      <td>2</td>\n",
       "      <td>17.2</td>\n",
       "      <td>45.9</td>\n",
       "      <td>69.3</td>\n",
       "      <td>9.3</td>\n",
       "    </tr>\n",
       "    <tr>\n",
       "      <td>3</td>\n",
       "      <td>151.5</td>\n",
       "      <td>41.3</td>\n",
       "      <td>58.5</td>\n",
       "      <td>18.5</td>\n",
       "    </tr>\n",
       "    <tr>\n",
       "      <td>4</td>\n",
       "      <td>180.8</td>\n",
       "      <td>10.8</td>\n",
       "      <td>58.4</td>\n",
       "      <td>12.9</td>\n",
       "    </tr>\n",
       "    <tr>\n",
       "      <td>...</td>\n",
       "      <td>...</td>\n",
       "      <td>...</td>\n",
       "      <td>...</td>\n",
       "      <td>...</td>\n",
       "    </tr>\n",
       "    <tr>\n",
       "      <td>195</td>\n",
       "      <td>38.2</td>\n",
       "      <td>3.7</td>\n",
       "      <td>13.8</td>\n",
       "      <td>7.6</td>\n",
       "    </tr>\n",
       "    <tr>\n",
       "      <td>196</td>\n",
       "      <td>94.2</td>\n",
       "      <td>4.9</td>\n",
       "      <td>8.1</td>\n",
       "      <td>9.7</td>\n",
       "    </tr>\n",
       "    <tr>\n",
       "      <td>197</td>\n",
       "      <td>177.0</td>\n",
       "      <td>9.3</td>\n",
       "      <td>6.4</td>\n",
       "      <td>12.8</td>\n",
       "    </tr>\n",
       "    <tr>\n",
       "      <td>198</td>\n",
       "      <td>283.6</td>\n",
       "      <td>42.0</td>\n",
       "      <td>66.2</td>\n",
       "      <td>25.5</td>\n",
       "    </tr>\n",
       "    <tr>\n",
       "      <td>199</td>\n",
       "      <td>232.1</td>\n",
       "      <td>8.6</td>\n",
       "      <td>8.7</td>\n",
       "      <td>13.4</td>\n",
       "    </tr>\n",
       "  </tbody>\n",
       "</table>\n",
       "<p>200 rows × 4 columns</p>\n",
       "</div>"
      ],
      "text/plain": [
       "        TV  radio  newspaper  sales\n",
       "0    230.1   37.8       69.2   22.1\n",
       "1     44.5   39.3       45.1   10.4\n",
       "2     17.2   45.9       69.3    9.3\n",
       "3    151.5   41.3       58.5   18.5\n",
       "4    180.8   10.8       58.4   12.9\n",
       "..     ...    ...        ...    ...\n",
       "195   38.2    3.7       13.8    7.6\n",
       "196   94.2    4.9        8.1    9.7\n",
       "197  177.0    9.3        6.4   12.8\n",
       "198  283.6   42.0       66.2   25.5\n",
       "199  232.1    8.6        8.7   13.4\n",
       "\n",
       "[200 rows x 4 columns]"
      ]
     },
     "execution_count": 155,
     "metadata": {},
     "output_type": "execute_result"
    }
   ],
   "source": [
    "data"
   ]
  },
  {
   "cell_type": "code",
   "execution_count": 156,
   "metadata": {},
   "outputs": [
    {
     "data": {
      "text/html": [
       "<div>\n",
       "<style scoped>\n",
       "    .dataframe tbody tr th:only-of-type {\n",
       "        vertical-align: middle;\n",
       "    }\n",
       "\n",
       "    .dataframe tbody tr th {\n",
       "        vertical-align: top;\n",
       "    }\n",
       "\n",
       "    .dataframe thead th {\n",
       "        text-align: right;\n",
       "    }\n",
       "</style>\n",
       "<table border=\"1\" class=\"dataframe\">\n",
       "  <thead>\n",
       "    <tr style=\"text-align: right;\">\n",
       "      <th></th>\n",
       "      <th>TV</th>\n",
       "      <th>radio</th>\n",
       "      <th>newspaper</th>\n",
       "      <th>sales</th>\n",
       "    </tr>\n",
       "  </thead>\n",
       "  <tbody>\n",
       "    <tr>\n",
       "      <td>TV</td>\n",
       "      <td>1.000000</td>\n",
       "      <td>0.054809</td>\n",
       "      <td>0.056648</td>\n",
       "      <td>0.782224</td>\n",
       "    </tr>\n",
       "    <tr>\n",
       "      <td>radio</td>\n",
       "      <td>0.054809</td>\n",
       "      <td>1.000000</td>\n",
       "      <td>0.354104</td>\n",
       "      <td>0.576223</td>\n",
       "    </tr>\n",
       "    <tr>\n",
       "      <td>newspaper</td>\n",
       "      <td>0.056648</td>\n",
       "      <td>0.354104</td>\n",
       "      <td>1.000000</td>\n",
       "      <td>0.228299</td>\n",
       "    </tr>\n",
       "    <tr>\n",
       "      <td>sales</td>\n",
       "      <td>0.782224</td>\n",
       "      <td>0.576223</td>\n",
       "      <td>0.228299</td>\n",
       "      <td>1.000000</td>\n",
       "    </tr>\n",
       "  </tbody>\n",
       "</table>\n",
       "</div>"
      ],
      "text/plain": [
       "                 TV     radio  newspaper     sales\n",
       "TV         1.000000  0.054809   0.056648  0.782224\n",
       "radio      0.054809  1.000000   0.354104  0.576223\n",
       "newspaper  0.056648  0.354104   1.000000  0.228299\n",
       "sales      0.782224  0.576223   0.228299  1.000000"
      ]
     },
     "execution_count": 156,
     "metadata": {},
     "output_type": "execute_result"
    }
   ],
   "source": [
    "dfcor = data.corr()\n",
    "dfcor"
   ]
  },
  {
   "cell_type": "code",
   "execution_count": 157,
   "metadata": {},
   "outputs": [
    {
     "data": {
      "text/plain": [
       "<matplotlib.axes._subplots.AxesSubplot at 0x2ad5660e708>"
      ]
     },
     "execution_count": 157,
     "metadata": {},
     "output_type": "execute_result"
    },
    {
     "data": {
      "image/png": "[encoded data removed]",
      "text/plain": [
       "<Figure size 432x288 with 2 Axes>"
      ]
     },
     "metadata": {
      "needs_background": "light"
     },
     "output_type": "display_data"
    }
   ],
   "source": [
    "sns.heatmap(dfcor)"
   ]
  },
  {
   "cell_type": "code",
   "execution_count": 158,
   "metadata": {},
   "outputs": [
    {
     "data": {
      "text/plain": [
       "<matplotlib.axes._subplots.AxesSubplot at 0x2ad566dedc8>"
      ]
     },
     "execution_count": 158,
     "metadata": {},
     "output_type": "execute_result"
    },
    {
     "data": {
      "image/png": "[encoded data removed]",
      "text/plain": [
       "<Figure size 432x288 with 2 Axes>"
      ]
     },
     "metadata": {
      "needs_background": "light"
     },
     "output_type": "display_data"
    }
   ],
   "source": [
    "plt.figure(figsize=(6,4))\n",
    "sns.heatmap(dfcor,cmap='Blues',annot=False)"
   ]
  },
  {
   "cell_type": "code",
   "execution_count": 159,
   "metadata": {},
   "outputs": [
    {
     "data": {
      "text/plain": [
       "<matplotlib.axes._subplots.AxesSubplot at 0x2ad55f69f88>"
      ]
     },
     "execution_count": 159,
     "metadata": {},
     "output_type": "execute_result"
    },
    {
     "data": {
      "image/png": "[encoded data removed]",
      "text/plain": [
       "<Figure size 432x288 with 2 Axes>"
      ]
     },
     "metadata": {
      "needs_background": "light"
     },
     "output_type": "display_data"
    }
   ],
   "source": [
    "plt.figure(figsize=(6,4))\n",
    "sns.heatmap(dfcor,cmap='Blues',annot=True)"
   ]
  },
  {
   "cell_type": "markdown",
   "metadata": {},
   "source": [
    "#### Removing the Outliers"
   ]
  },
  {
   "cell_type": "code",
   "execution_count": 160,
   "metadata": {},
   "outputs": [
    {
     "name": "stdout",
     "output_type": "stream",
     "text": [
      "(200, 4)\n",
      "(198, 4)\n"
     ]
    }
   ],
   "source": [
    "#Lets check for outliers\n",
    "from scipy.stats import zscore\n",
    "z_score=abs(zscore(data))\n",
    "print(data.shape)\n",
    "data_final=data.loc[(z_score<3).all(axis=1)]\n",
    "print(data_final.shape)"
   ]
  },
  {
   "cell_type": "markdown",
   "metadata": {},
   "source": [
    "#### Checking Skewness and Removing it"
   ]
  },
  {
   "cell_type": "code",
   "execution_count": 161,
   "metadata": {},
   "outputs": [
    {
     "data": {
      "text/plain": [
       "TV          -0.069853\n",
       "radio        0.094175\n",
       "newspaper    0.894720\n",
       "sales        0.407571\n",
       "dtype: float64"
      ]
     },
     "execution_count": 161,
     "metadata": {},
     "output_type": "execute_result"
    }
   ],
   "source": [
    "#Check Skewness \n",
    "data.skew()\n",
    "#there is some skewness which need to be treated,by seeing we can say only +ve skewness is significant and needs to be treated\n",
    "#if value is 0.55 or more than that then there would be a skewed value"
   ]
  },
  {
   "cell_type": "code",
   "execution_count": 162,
   "metadata": {},
   "outputs": [],
   "source": [
    "#Treating the skewness using log\n",
    "import numpy as np\n",
    "for col in data.columns:\n",
    "#Here complete column name has been passed\n",
    "    if data.skew().loc[col]>0.55:\n",
    "        data[col]=np.log1p(data[col])"
   ]
  },
  {
   "cell_type": "code",
   "execution_count": 163,
   "metadata": {},
   "outputs": [
    {
     "data": {
      "text/plain": [
       "TV          -0.069853\n",
       "radio        0.094175\n",
       "newspaper   -0.799875\n",
       "sales        0.407571\n",
       "dtype: float64"
      ]
     },
     "execution_count": 163,
     "metadata": {},
     "output_type": "execute_result"
    }
   ],
   "source": [
    "#Lets Again Check the Skewness\n",
    "data.skew()"
   ]
  },
  {
   "cell_type": "code",
   "execution_count": 164,
   "metadata": {},
   "outputs": [
    {
     "data": {
      "image/png": "[encoded data removed]",
      "text/plain": [
       "<Figure size 720x720 with 20 Axes>"
      ]
     },
     "metadata": {
      "needs_background": "light"
     },
     "output_type": "display_data"
    }
   ],
   "source": [
    "#Lets Check the pairplot using seaborn Library\n",
    "import seaborn as sns\n",
    "sns.pairplot(data)\n",
    "plt.show()"
   ]
  },
  {
   "cell_type": "markdown",
   "metadata": {},
   "source": [
    "### LinePlot"
   ]
  },
  {
   "cell_type": "code",
   "execution_count": 165,
   "metadata": {},
   "outputs": [
    {
     "data": {
      "text/plain": [
       "Index(['TV', 'radio', 'newspaper', 'sales'], dtype='object')"
      ]
     },
     "execution_count": 165,
     "metadata": {},
     "output_type": "execute_result"
    }
   ],
   "source": [
    "data.columns"
   ]
  },
  {
   "cell_type": "code",
   "execution_count": 166,
   "metadata": {},
   "outputs": [
    {
     "data": {
      "image/png": "[encoded data removed]",
      "text/plain": [
       "<Figure size 432x288 with 1 Axes>"
      ]
     },
     "metadata": {
      "needs_background": "light"
     },
     "output_type": "display_data"
    }
   ],
   "source": [
    "#Lets check the how TV is changing with respect to sales\n",
    "sns.lineplot(data[\"TV\"],data[\"sales\"])\n",
    "plt.show()\n",
    "#The below graph clearly shows that with increase in TV there is increase in sales too "
   ]
  },
  {
   "cell_type": "code",
   "execution_count": 167,
   "metadata": {},
   "outputs": [
    {
     "data": {
      "image/png": "[encoded data removed]",
      "text/plain": [
       "<Figure size 432x288 with 1 Axes>"
      ]
     },
     "metadata": {
      "needs_background": "light"
     },
     "output_type": "display_data"
    }
   ],
   "source": [
    "#Lets check the how radio is changing with respect to sales\n",
    "sns.lineplot(data[\"radio\"],data[\"sales\"])\n",
    "plt.show()\n",
    "#The below graph  shows that with increase in radio there is substantial increase in sales too "
   ]
  },
  {
   "cell_type": "code",
   "execution_count": 168,
   "metadata": {},
   "outputs": [
    {
     "data": {
      "image/png": "[encoded data removed]",
      "text/plain": [
       "<Figure size 432x288 with 1 Axes>"
      ]
     },
     "metadata": {
      "needs_background": "light"
     },
     "output_type": "display_data"
    }
   ],
   "source": [
    "#Lets check the how newspaper is changing with respect to sales\n",
    "sns.lineplot(data[\"newspaper\"],data[\"sales\"])\n",
    "plt.show()\n",
    "##The below graph  shows that with increase in newspaper has no such impact on sales"
   ]
  },
  {
   "cell_type": "markdown",
   "metadata": {},
   "source": [
    "#### Plotting Boxplot through Iteration"
   ]
  },
  {
   "cell_type": "code",
   "execution_count": 169,
   "metadata": {},
   "outputs": [
    {
     "data": {
      "image/png": "[encoded data removed]",
      "text/plain": [
       "<Figure size 720x1080 with 1 Axes>"
      ]
     },
     "metadata": {
      "needs_background": "light"
     },
     "output_type": "display_data"
    },
    {
     "data": {
      "image/png": "[encoded data removed]",
      "text/plain": [
       "<Figure size 432x288 with 1 Axes>"
      ]
     },
     "metadata": {
      "needs_background": "light"
     },
     "output_type": "display_data"
    },
    {
     "data": {
      "image/png": "[encoded data removed]",
      "text/plain": [
       "<Figure size 432x288 with 1 Axes>"
      ]
     },
     "metadata": {
      "needs_background": "light"
     },
     "output_type": "display_data"
    },
    {
     "data": {
      "image/png": "[encoded data removed]",
      "text/plain": [
       "<Figure size 432x288 with 1 Axes>"
      ]
     },
     "metadata": {
      "needs_background": "light"
     },
     "output_type": "display_data"
    }
   ],
   "source": [
    "import matplotlib.pyplot as plt\n",
    "plt.figure(figsize=(10,15))\n",
    "for i,col in enumerate(list(data.columns.values)):\n",
    "    plt.subplot(5,5,i+1)\n",
    "    data.boxplot(col)\n",
    "    plt.grid()\n",
    "    plt.tight_layout()\n",
    "    plt.show()"
   ]
  },
  {
   "cell_type": "markdown",
   "metadata": {},
   "source": [
    "### Plotting Displot Through Iteration"
   ]
  },
  {
   "cell_type": "code",
   "execution_count": 170,
   "metadata": {},
   "outputs": [
    {
     "data": {
      "image/png": "[encoded data removed]",
      "text/plain": [
       "<Figure size 1440x1152 with 4 Axes>"
      ]
     },
     "metadata": {
      "needs_background": "light"
     },
     "output_type": "display_data"
    }
   ],
   "source": [
    "plt.figure(figsize=(20,16))\n",
    "for i,col in enumerate(list(data.columns.values)):\n",
    "    plt.subplot(5,5,i+1)\n",
    "    sns.distplot(data[col],color='r',kde=True,label='data')\n",
    "    plt.grid()\n",
    "    plt.legend(loc='upper right')\n",
    "    plt.tight_layout()"
   ]
  },
  {
   "cell_type": "markdown",
   "metadata": {},
   "source": [
    "### Plotting Data using Scatter Plot"
   ]
  },
  {
   "cell_type": "code",
   "execution_count": 171,
   "metadata": {},
   "outputs": [
    {
     "data": {
      "text/plain": [
       "Index(['TV', 'radio', 'newspaper', 'sales'], dtype='object')"
      ]
     },
     "execution_count": 171,
     "metadata": {},
     "output_type": "execute_result"
    }
   ],
   "source": [
    "data.columns"
   ]
  },
  {
   "cell_type": "code",
   "execution_count": 172,
   "metadata": {},
   "outputs": [
    {
     "data": {
      "text/plain": [
       "<matplotlib.collections.PathCollection at 0x2ad56258b08>"
      ]
     },
     "execution_count": 172,
     "metadata": {},
     "output_type": "execute_result"
    },
    {
     "data": {
      "image/png": "[encoded data removed]",
      "text/plain": [
       "<Figure size 432x288 with 1 Axes>"
      ]
     },
     "metadata": {
      "needs_background": "light"
     },
     "output_type": "display_data"
    }
   ],
   "source": [
    "plt.scatter(data['TV'],data['sales'])"
   ]
  },
  {
   "cell_type": "code",
   "execution_count": 173,
   "metadata": {},
   "outputs": [
    {
     "data": {
      "text/plain": [
       "<matplotlib.collections.PathCollection at 0x2ad54b21108>"
      ]
     },
     "execution_count": 173,
     "metadata": {},
     "output_type": "execute_result"
    },
    {
     "data": {
      "image/png": "[encoded data removed]",
      "text/plain": [
       "<Figure size 432x288 with 1 Axes>"
      ]
     },
     "metadata": {
      "needs_background": "light"
     },
     "output_type": "display_data"
    }
   ],
   "source": [
    "plt.scatter(data['radio'],data['sales'])"
   ]
  },
  {
   "cell_type": "code",
   "execution_count": 174,
   "metadata": {},
   "outputs": [
    {
     "data": {
      "text/plain": [
       "<matplotlib.collections.PathCollection at 0x2ad54c801c8>"
      ]
     },
     "execution_count": 174,
     "metadata": {},
     "output_type": "execute_result"
    },
    {
     "data": {
      "image/png": "[encoded data removed]",
      "text/plain": [
       "<Figure size 432x288 with 1 Axes>"
      ]
     },
     "metadata": {
      "needs_background": "light"
     },
     "output_type": "display_data"
    }
   ],
   "source": [
    "plt.scatter(data['newspaper'],data['sales'])"
   ]
  },
  {
   "cell_type": "markdown",
   "metadata": {},
   "source": [
    "### Column Plot"
   ]
  },
  {
   "cell_type": "code",
   "execution_count": 175,
   "metadata": {},
   "outputs": [],
   "source": [
    "collist = data.columns.values\n",
    "ncols=12\n",
    "nrows=10"
   ]
  },
  {
   "cell_type": "code",
   "execution_count": 176,
   "metadata": {},
   "outputs": [
    {
     "data": {
      "image/png": "[encoded data removed]",
      "text/plain": [
       "<Figure size 864x4320 with 3 Axes>"
      ]
     },
     "metadata": {
      "needs_background": "light"
     },
     "output_type": "display_data"
    }
   ],
   "source": [
    "plt.figure(figsize=(ncols,5*ncols))\n",
    "for i in range(1,len(collist)):\n",
    "    plt.subplot(nrows,ncols,i+1)\n",
    "    sns.boxplot(data[collist[i]],color='green',orient='v')\n",
    "    plt.tight_layout()"
   ]
  },
  {
   "cell_type": "markdown",
   "metadata": {},
   "source": [
    "#### Separating X and Y Variable"
   ]
  },
  {
   "cell_type": "code",
   "execution_count": 177,
   "metadata": {},
   "outputs": [
    {
     "data": {
      "text/html": [
       "<div>\n",
       "<style scoped>\n",
       "    .dataframe tbody tr th:only-of-type {\n",
       "        vertical-align: middle;\n",
       "    }\n",
       "\n",
       "    .dataframe tbody tr th {\n",
       "        vertical-align: top;\n",
       "    }\n",
       "\n",
       "    .dataframe thead th {\n",
       "        text-align: right;\n",
       "    }\n",
       "</style>\n",
       "<table border=\"1\" class=\"dataframe\">\n",
       "  <thead>\n",
       "    <tr style=\"text-align: right;\">\n",
       "      <th></th>\n",
       "      <th>TV</th>\n",
       "      <th>radio</th>\n",
       "      <th>newspaper</th>\n",
       "      <th>sales</th>\n",
       "    </tr>\n",
       "  </thead>\n",
       "  <tbody>\n",
       "    <tr>\n",
       "      <td>0</td>\n",
       "      <td>230.1</td>\n",
       "      <td>37.8</td>\n",
       "      <td>4.251348</td>\n",
       "      <td>22.1</td>\n",
       "    </tr>\n",
       "    <tr>\n",
       "      <td>1</td>\n",
       "      <td>44.5</td>\n",
       "      <td>39.3</td>\n",
       "      <td>3.830813</td>\n",
       "      <td>10.4</td>\n",
       "    </tr>\n",
       "    <tr>\n",
       "      <td>2</td>\n",
       "      <td>17.2</td>\n",
       "      <td>45.9</td>\n",
       "      <td>4.252772</td>\n",
       "      <td>9.3</td>\n",
       "    </tr>\n",
       "    <tr>\n",
       "      <td>3</td>\n",
       "      <td>151.5</td>\n",
       "      <td>41.3</td>\n",
       "      <td>4.085976</td>\n",
       "      <td>18.5</td>\n",
       "    </tr>\n",
       "    <tr>\n",
       "      <td>4</td>\n",
       "      <td>180.8</td>\n",
       "      <td>10.8</td>\n",
       "      <td>4.084294</td>\n",
       "      <td>12.9</td>\n",
       "    </tr>\n",
       "    <tr>\n",
       "      <td>...</td>\n",
       "      <td>...</td>\n",
       "      <td>...</td>\n",
       "      <td>...</td>\n",
       "      <td>...</td>\n",
       "    </tr>\n",
       "    <tr>\n",
       "      <td>195</td>\n",
       "      <td>38.2</td>\n",
       "      <td>3.7</td>\n",
       "      <td>2.694627</td>\n",
       "      <td>7.6</td>\n",
       "    </tr>\n",
       "    <tr>\n",
       "      <td>196</td>\n",
       "      <td>94.2</td>\n",
       "      <td>4.9</td>\n",
       "      <td>2.208274</td>\n",
       "      <td>9.7</td>\n",
       "    </tr>\n",
       "    <tr>\n",
       "      <td>197</td>\n",
       "      <td>177.0</td>\n",
       "      <td>9.3</td>\n",
       "      <td>2.001480</td>\n",
       "      <td>12.8</td>\n",
       "    </tr>\n",
       "    <tr>\n",
       "      <td>198</td>\n",
       "      <td>283.6</td>\n",
       "      <td>42.0</td>\n",
       "      <td>4.207673</td>\n",
       "      <td>25.5</td>\n",
       "    </tr>\n",
       "    <tr>\n",
       "      <td>199</td>\n",
       "      <td>232.1</td>\n",
       "      <td>8.6</td>\n",
       "      <td>2.272126</td>\n",
       "      <td>13.4</td>\n",
       "    </tr>\n",
       "  </tbody>\n",
       "</table>\n",
       "<p>200 rows × 4 columns</p>\n",
       "</div>"
      ],
      "text/plain": [
       "        TV  radio  newspaper  sales\n",
       "0    230.1   37.8   4.251348   22.1\n",
       "1     44.5   39.3   3.830813   10.4\n",
       "2     17.2   45.9   4.252772    9.3\n",
       "3    151.5   41.3   4.085976   18.5\n",
       "4    180.8   10.8   4.084294   12.9\n",
       "..     ...    ...        ...    ...\n",
       "195   38.2    3.7   2.694627    7.6\n",
       "196   94.2    4.9   2.208274    9.7\n",
       "197  177.0    9.3   2.001480   12.8\n",
       "198  283.6   42.0   4.207673   25.5\n",
       "199  232.1    8.6   2.272126   13.4\n",
       "\n",
       "[200 rows x 4 columns]"
      ]
     },
     "execution_count": 177,
     "metadata": {},
     "output_type": "execute_result"
    }
   ],
   "source": [
    "data"
   ]
  },
  {
   "cell_type": "code",
   "execution_count": 178,
   "metadata": {},
   "outputs": [],
   "source": [
    "X = data.drop(\"sales\", axis=1)"
   ]
  },
  {
   "cell_type": "code",
   "execution_count": 179,
   "metadata": {},
   "outputs": [
    {
     "data": {
      "text/html": [
       "<div>\n",
       "<style scoped>\n",
       "    .dataframe tbody tr th:only-of-type {\n",
       "        vertical-align: middle;\n",
       "    }\n",
       "\n",
       "    .dataframe tbody tr th {\n",
       "        vertical-align: top;\n",
       "    }\n",
       "\n",
       "    .dataframe thead th {\n",
       "        text-align: right;\n",
       "    }\n",
       "</style>\n",
       "<table border=\"1\" class=\"dataframe\">\n",
       "  <thead>\n",
       "    <tr style=\"text-align: right;\">\n",
       "      <th></th>\n",
       "      <th>TV</th>\n",
       "      <th>radio</th>\n",
       "      <th>newspaper</th>\n",
       "    </tr>\n",
       "  </thead>\n",
       "  <tbody>\n",
       "    <tr>\n",
       "      <td>0</td>\n",
       "      <td>230.1</td>\n",
       "      <td>37.8</td>\n",
       "      <td>4.251348</td>\n",
       "    </tr>\n",
       "    <tr>\n",
       "      <td>1</td>\n",
       "      <td>44.5</td>\n",
       "      <td>39.3</td>\n",
       "      <td>3.830813</td>\n",
       "    </tr>\n",
       "    <tr>\n",
       "      <td>2</td>\n",
       "      <td>17.2</td>\n",
       "      <td>45.9</td>\n",
       "      <td>4.252772</td>\n",
       "    </tr>\n",
       "    <tr>\n",
       "      <td>3</td>\n",
       "      <td>151.5</td>\n",
       "      <td>41.3</td>\n",
       "      <td>4.085976</td>\n",
       "    </tr>\n",
       "    <tr>\n",
       "      <td>4</td>\n",
       "      <td>180.8</td>\n",
       "      <td>10.8</td>\n",
       "      <td>4.084294</td>\n",
       "    </tr>\n",
       "    <tr>\n",
       "      <td>...</td>\n",
       "      <td>...</td>\n",
       "      <td>...</td>\n",
       "      <td>...</td>\n",
       "    </tr>\n",
       "    <tr>\n",
       "      <td>195</td>\n",
       "      <td>38.2</td>\n",
       "      <td>3.7</td>\n",
       "      <td>2.694627</td>\n",
       "    </tr>\n",
       "    <tr>\n",
       "      <td>196</td>\n",
       "      <td>94.2</td>\n",
       "      <td>4.9</td>\n",
       "      <td>2.208274</td>\n",
       "    </tr>\n",
       "    <tr>\n",
       "      <td>197</td>\n",
       "      <td>177.0</td>\n",
       "      <td>9.3</td>\n",
       "      <td>2.001480</td>\n",
       "    </tr>\n",
       "    <tr>\n",
       "      <td>198</td>\n",
       "      <td>283.6</td>\n",
       "      <td>42.0</td>\n",
       "      <td>4.207673</td>\n",
       "    </tr>\n",
       "    <tr>\n",
       "      <td>199</td>\n",
       "      <td>232.1</td>\n",
       "      <td>8.6</td>\n",
       "      <td>2.272126</td>\n",
       "    </tr>\n",
       "  </tbody>\n",
       "</table>\n",
       "<p>200 rows × 3 columns</p>\n",
       "</div>"
      ],
      "text/plain": [
       "        TV  radio  newspaper\n",
       "0    230.1   37.8   4.251348\n",
       "1     44.5   39.3   3.830813\n",
       "2     17.2   45.9   4.252772\n",
       "3    151.5   41.3   4.085976\n",
       "4    180.8   10.8   4.084294\n",
       "..     ...    ...        ...\n",
       "195   38.2    3.7   2.694627\n",
       "196   94.2    4.9   2.208274\n",
       "197  177.0    9.3   2.001480\n",
       "198  283.6   42.0   4.207673\n",
       "199  232.1    8.6   2.272126\n",
       "\n",
       "[200 rows x 3 columns]"
      ]
     },
     "execution_count": 179,
     "metadata": {},
     "output_type": "execute_result"
    }
   ],
   "source": [
    "X"
   ]
  },
  {
   "cell_type": "code",
   "execution_count": 180,
   "metadata": {},
   "outputs": [
    {
     "data": {
      "text/plain": [
       "0      22.1\n",
       "1      10.4\n",
       "2       9.3\n",
       "3      18.5\n",
       "4      12.9\n",
       "       ... \n",
       "195     7.6\n",
       "196     9.7\n",
       "197    12.8\n",
       "198    25.5\n",
       "199    13.4\n",
       "Name: sales, Length: 200, dtype: float64"
      ]
     },
     "execution_count": 180,
     "metadata": {},
     "output_type": "execute_result"
    }
   ],
   "source": [
    "Y = data[\"sales\"]\n",
    "Y"
   ]
  },
  {
   "cell_type": "code",
   "execution_count": 181,
   "metadata": {},
   "outputs": [
    {
     "data": {
      "text/plain": [
       "(200, 3)"
      ]
     },
     "execution_count": 181,
     "metadata": {},
     "output_type": "execute_result"
    }
   ],
   "source": [
    "X.shape"
   ]
  },
  {
   "cell_type": "code",
   "execution_count": 182,
   "metadata": {},
   "outputs": [
    {
     "data": {
      "text/plain": [
       "(200,)"
      ]
     },
     "execution_count": 182,
     "metadata": {},
     "output_type": "execute_result"
    }
   ],
   "source": [
    "Y.shape"
   ]
  },
  {
   "cell_type": "code",
   "execution_count": 183,
   "metadata": {},
   "outputs": [],
   "source": [
    "Y = Y.values.reshape(-1,1)"
   ]
  },
  {
   "cell_type": "code",
   "execution_count": 184,
   "metadata": {},
   "outputs": [
    {
     "data": {
      "text/plain": [
       "array([[22.1],\n",
       "       [10.4],\n",
       "       [ 9.3],\n",
       "       [18.5],\n",
       "       [12.9],\n",
       "       [ 7.2],\n",
       "       [11.8],\n",
       "       [13.2],\n",
       "       [ 4.8],\n",
       "       [10.6],\n",
       "       [ 8.6],\n",
       "       [17.4],\n",
       "       [ 9.2],\n",
       "       [ 9.7],\n",
       "       [19. ],\n",
       "       [22.4],\n",
       "       [12.5],\n",
       "       [24.4],\n",
       "       [11.3],\n",
       "       [14.6],\n",
       "       [18. ],\n",
       "       [12.5],\n",
       "       [ 5.6],\n",
       "       [15.5],\n",
       "       [ 9.7],\n",
       "       [12. ],\n",
       "       [15. ],\n",
       "       [15.9],\n",
       "       [18.9],\n",
       "       [10.5],\n",
       "       [21.4],\n",
       "       [11.9],\n",
       "       [ 9.6],\n",
       "       [17.4],\n",
       "       [ 9.5],\n",
       "       [12.8],\n",
       "       [25.4],\n",
       "       [14.7],\n",
       "       [10.1],\n",
       "       [21.5],\n",
       "       [16.6],\n",
       "       [17.1],\n",
       "       [20.7],\n",
       "       [12.9],\n",
       "       [ 8.5],\n",
       "       [14.9],\n",
       "       [10.6],\n",
       "       [23.2],\n",
       "       [14.8],\n",
       "       [ 9.7],\n",
       "       [11.4],\n",
       "       [10.7],\n",
       "       [22.6],\n",
       "       [21.2],\n",
       "       [20.2],\n",
       "       [23.7],\n",
       "       [ 5.5],\n",
       "       [13.2],\n",
       "       [23.8],\n",
       "       [18.4],\n",
       "       [ 8.1],\n",
       "       [24.2],\n",
       "       [15.7],\n",
       "       [14. ],\n",
       "       [18. ],\n",
       "       [ 9.3],\n",
       "       [ 9.5],\n",
       "       [13.4],\n",
       "       [18.9],\n",
       "       [22.3],\n",
       "       [18.3],\n",
       "       [12.4],\n",
       "       [ 8.8],\n",
       "       [11. ],\n",
       "       [17. ],\n",
       "       [ 8.7],\n",
       "       [ 6.9],\n",
       "       [14.2],\n",
       "       [ 5.3],\n",
       "       [11. ],\n",
       "       [11.8],\n",
       "       [12.3],\n",
       "       [11.3],\n",
       "       [13.6],\n",
       "       [21.7],\n",
       "       [15.2],\n",
       "       [12. ],\n",
       "       [16. ],\n",
       "       [12.9],\n",
       "       [16.7],\n",
       "       [11.2],\n",
       "       [ 7.3],\n",
       "       [19.4],\n",
       "       [22.2],\n",
       "       [11.5],\n",
       "       [16.9],\n",
       "       [11.7],\n",
       "       [15.5],\n",
       "       [25.4],\n",
       "       [17.2],\n",
       "       [11.7],\n",
       "       [23.8],\n",
       "       [14.8],\n",
       "       [14.7],\n",
       "       [20.7],\n",
       "       [19.2],\n",
       "       [ 7.2],\n",
       "       [ 8.7],\n",
       "       [ 5.3],\n",
       "       [19.8],\n",
       "       [13.4],\n",
       "       [21.8],\n",
       "       [14.1],\n",
       "       [15.9],\n",
       "       [14.6],\n",
       "       [12.6],\n",
       "       [12.2],\n",
       "       [ 9.4],\n",
       "       [15.9],\n",
       "       [ 6.6],\n",
       "       [15.5],\n",
       "       [ 7. ],\n",
       "       [11.6],\n",
       "       [15.2],\n",
       "       [19.7],\n",
       "       [10.6],\n",
       "       [ 6.6],\n",
       "       [ 8.8],\n",
       "       [24.7],\n",
       "       [ 9.7],\n",
       "       [ 1.6],\n",
       "       [12.7],\n",
       "       [ 5.7],\n",
       "       [19.6],\n",
       "       [10.8],\n",
       "       [11.6],\n",
       "       [ 9.5],\n",
       "       [20.8],\n",
       "       [ 9.6],\n",
       "       [20.7],\n",
       "       [10.9],\n",
       "       [19.2],\n",
       "       [20.1],\n",
       "       [10.4],\n",
       "       [11.4],\n",
       "       [10.3],\n",
       "       [13.2],\n",
       "       [25.4],\n",
       "       [10.9],\n",
       "       [10.1],\n",
       "       [16.1],\n",
       "       [11.6],\n",
       "       [16.6],\n",
       "       [19. ],\n",
       "       [15.6],\n",
       "       [ 3.2],\n",
       "       [15.3],\n",
       "       [10.1],\n",
       "       [ 7.3],\n",
       "       [12.9],\n",
       "       [14.4],\n",
       "       [13.3],\n",
       "       [14.9],\n",
       "       [18. ],\n",
       "       [11.9],\n",
       "       [11.9],\n",
       "       [ 8. ],\n",
       "       [12.2],\n",
       "       [17.1],\n",
       "       [15. ],\n",
       "       [ 8.4],\n",
       "       [14.5],\n",
       "       [ 7.6],\n",
       "       [11.7],\n",
       "       [11.5],\n",
       "       [27. ],\n",
       "       [20.2],\n",
       "       [11.7],\n",
       "       [11.8],\n",
       "       [12.6],\n",
       "       [10.5],\n",
       "       [12.2],\n",
       "       [ 8.7],\n",
       "       [26.2],\n",
       "       [17.6],\n",
       "       [22.6],\n",
       "       [10.3],\n",
       "       [17.3],\n",
       "       [15.9],\n",
       "       [ 6.7],\n",
       "       [10.8],\n",
       "       [ 9.9],\n",
       "       [ 5.9],\n",
       "       [19.6],\n",
       "       [17.3],\n",
       "       [ 7.6],\n",
       "       [ 9.7],\n",
       "       [12.8],\n",
       "       [25.5],\n",
       "       [13.4]])"
      ]
     },
     "execution_count": 184,
     "metadata": {},
     "output_type": "execute_result"
    }
   ],
   "source": [
    "Y"
   ]
  },
  {
   "cell_type": "code",
   "execution_count": 185,
   "metadata": {},
   "outputs": [
    {
     "data": {
      "text/plain": [
       "(200, 1)"
      ]
     },
     "execution_count": 185,
     "metadata": {},
     "output_type": "execute_result"
    }
   ],
   "source": [
    "Y.shape"
   ]
  },
  {
   "cell_type": "markdown",
   "metadata": {},
   "source": [
    "#### Applying Linear Regression"
   ]
  },
  {
   "cell_type": "code",
   "execution_count": 186,
   "metadata": {},
   "outputs": [],
   "source": [
    "from sklearn.model_selection import train_test_split\n",
    "train_X,test_X,train_Y,test_Y=train_test_split(X,Y,test_size=.33,random_state=39)"
   ]
  },
  {
   "cell_type": "code",
   "execution_count": 187,
   "metadata": {},
   "outputs": [
    {
     "data": {
      "text/plain": [
       "(134, 3)"
      ]
     },
     "execution_count": 187,
     "metadata": {},
     "output_type": "execute_result"
    }
   ],
   "source": [
    "train_X.shape"
   ]
  },
  {
   "cell_type": "code",
   "execution_count": 188,
   "metadata": {},
   "outputs": [
    {
     "data": {
      "text/plain": [
       "(134, 1)"
      ]
     },
     "execution_count": 188,
     "metadata": {},
     "output_type": "execute_result"
    }
   ],
   "source": [
    "train_Y.shape"
   ]
  },
  {
   "cell_type": "code",
   "execution_count": 189,
   "metadata": {},
   "outputs": [],
   "source": [
    "lg = LinearRegression()"
   ]
  },
  {
   "cell_type": "code",
   "execution_count": 190,
   "metadata": {},
   "outputs": [
    {
     "data": {
      "text/plain": [
       "LinearRegression(copy_X=True, fit_intercept=True, n_jobs=None, normalize=False)"
      ]
     },
     "execution_count": 190,
     "metadata": {},
     "output_type": "execute_result"
    }
   ],
   "source": [
    "lg.fit(train_X,train_Y)"
   ]
  },
  {
   "cell_type": "code",
   "execution_count": 191,
   "metadata": {},
   "outputs": [
    {
     "data": {
      "text/plain": [
       "array([[0.04646439, 0.19219856, 0.07729878]])"
      ]
     },
     "execution_count": 191,
     "metadata": {},
     "output_type": "execute_result"
    }
   ],
   "source": [
    "lg.coef_"
   ]
  },
  {
   "cell_type": "code",
   "execution_count": 192,
   "metadata": {},
   "outputs": [
    {
     "data": {
      "text/plain": [
       "array([2.44579732])"
      ]
     },
     "execution_count": 192,
     "metadata": {},
     "output_type": "execute_result"
    }
   ],
   "source": [
    "lg.intercept_"
   ]
  },
  {
   "cell_type": "code",
   "execution_count": 193,
   "metadata": {},
   "outputs": [
    {
     "data": {
      "text/plain": [
       "0.8984636386051144"
      ]
     },
     "execution_count": 193,
     "metadata": {},
     "output_type": "execute_result"
    }
   ],
   "source": [
    "lg.score(train_X,train_Y)"
   ]
  },
  {
   "cell_type": "code",
   "execution_count": 194,
   "metadata": {},
   "outputs": [
    {
     "name": "stdout",
     "output_type": "stream",
     "text": [
      "Predicted result price: [[22.2105626 ]\n",
      " [18.22643461]\n",
      " [ 6.36278103]\n",
      " [ 9.01991261]\n",
      " [11.83789424]\n",
      " [ 8.18001981]\n",
      " [ 4.30233204]\n",
      " [17.29392912]\n",
      " [16.41510732]\n",
      " [ 8.84459512]\n",
      " [14.11549978]\n",
      " [12.58330772]\n",
      " [14.45507711]\n",
      " [11.66886624]\n",
      " [12.39563302]\n",
      " [13.89738205]\n",
      " [16.55710815]\n",
      " [14.20686783]\n",
      " [ 3.38497069]\n",
      " [ 6.95013899]\n",
      " [13.28716307]\n",
      " [14.33930774]\n",
      " [14.70390993]\n",
      " [ 6.41840111]\n",
      " [ 4.3355601 ]\n",
      " [13.89481078]\n",
      " [14.93209302]\n",
      " [15.47412065]\n",
      " [25.00067279]\n",
      " [13.0799719 ]\n",
      " [ 7.8141465 ]\n",
      " [ 9.327101  ]\n",
      " [21.4509249 ]\n",
      " [18.31802244]\n",
      " [ 5.55636597]\n",
      " [12.46873224]\n",
      " [16.31574034]\n",
      " [ 7.2277322 ]\n",
      " [23.55207962]\n",
      " [ 9.8573303 ]\n",
      " [23.44419131]\n",
      " [10.74518966]\n",
      " [ 7.32602723]\n",
      " [18.59773218]\n",
      " [11.4954948 ]\n",
      " [ 9.58765994]\n",
      " [13.53226084]\n",
      " [21.4999393 ]\n",
      " [24.40492964]\n",
      " [23.10456094]\n",
      " [10.86023241]\n",
      " [18.52579787]\n",
      " [ 8.62446084]\n",
      " [ 9.08990868]\n",
      " [19.62763218]\n",
      " [12.60133613]\n",
      " [ 7.99104329]\n",
      " [ 9.80800986]\n",
      " [20.87300403]\n",
      " [14.91873194]\n",
      " [17.84764041]\n",
      " [19.46005582]\n",
      " [ 6.3517592 ]\n",
      " [15.61804287]\n",
      " [14.70946532]\n",
      " [15.70841314]]\n",
      "actual price [[24.7]\n",
      " [18. ]\n",
      " [ 9.4]\n",
      " [10.6]\n",
      " [11.7]\n",
      " [ 9.9]\n",
      " [ 5.9]\n",
      " [17. ]\n",
      " [16.9]\n",
      " [ 8.5]\n",
      " [14.6]\n",
      " [ 7.2]\n",
      " [13.6]\n",
      " [11.8]\n",
      " [ 9.3]\n",
      " [11.6]\n",
      " [15.5]\n",
      " [14.4]\n",
      " [ 5.3]\n",
      " [ 8.7]\n",
      " [12.2]\n",
      " [11.9]\n",
      " [12.5]\n",
      " [ 5.6]\n",
      " [ 7.3]\n",
      " [12.2]\n",
      " [14.9]\n",
      " [15.3]\n",
      " [27. ]\n",
      " [14. ]\n",
      " [ 9.7]\n",
      " [10.9]\n",
      " [22.2]\n",
      " [19. ]\n",
      " [ 8.1]\n",
      " [10.6]\n",
      " [16.6]\n",
      " [ 8.4]\n",
      " [23.8]\n",
      " [10.1]\n",
      " [24.4]\n",
      " [ 8. ]\n",
      " [ 9.5]\n",
      " [17.6]\n",
      " [12. ]\n",
      " [10.3]\n",
      " [11.6]\n",
      " [23.7]\n",
      " [26.2]\n",
      " [24.2]\n",
      " [11.9]\n",
      " [15.9]\n",
      " [ 5.3]\n",
      " [10.5]\n",
      " [19.8]\n",
      " [11.4]\n",
      " [ 9.7]\n",
      " [11.2]\n",
      " [22.6]\n",
      " [15. ]\n",
      " [15. ]\n",
      " [18.9]\n",
      " [ 8.8]\n",
      " [12.7]\n",
      " [14.7]\n",
      " [14.7]]\n"
     ]
    }
   ],
   "source": [
    "#predict the value\n",
    "pred=lg.predict(test_X)\n",
    "print(\"Predicted result price:\",pred)\n",
    "print(\"actual price\",test_Y)"
   ]
  },
  {
   "cell_type": "code",
   "execution_count": 195,
   "metadata": {},
   "outputs": [
    {
     "name": "stdout",
     "output_type": "stream",
     "text": [
      "error:\n",
      "Mean absolute error: 1.4279464091733947\n",
      "Mean sqaured error: 3.1310835591231934\n",
      "Root mean squared error: 1.7694868067106897\n",
      "R2 Score of lg: 0.89\n"
     ]
    }
   ],
   "source": [
    "from sklearn.metrics import mean_squared_error, r2_score\n",
    "\n",
    "print('error:')\n",
    "\n",
    "print('Mean absolute error:',mean_absolute_error(test_Y,pred))\n",
    "print('Mean sqaured error:',mean_squared_error(test_Y,pred))\n",
    "\n",
    "print('Root mean squared error:',np.sqrt(mean_squared_error(test_Y,pred)))\n",
    "print('R2 Score of lg: %.2f' % r2_score(test_Y, pred))"
   ]
  },
  {
   "cell_type": "markdown",
   "metadata": {},
   "source": [
    "#### Boost through GradientBoostRegressor By using Parameters"
   ]
  },
  {
   "cell_type": "code",
   "execution_count": 196,
   "metadata": {},
   "outputs": [
    {
     "data": {
      "text/plain": [
       "GradientBoostingRegressor(alpha=0.9, criterion='friedman_mse', init=None,\n",
       "                          learning_rate=0.01, loss='ls', max_depth=4,\n",
       "                          max_features=None, max_leaf_nodes=None,\n",
       "                          min_impurity_decrease=0.0, min_impurity_split=None,\n",
       "                          min_samples_leaf=1, min_samples_split=2,\n",
       "                          min_weight_fraction_leaf=0.0, n_estimators=500,\n",
       "                          n_iter_no_change=None, presort='auto',\n",
       "                          random_state=None, subsample=1.0, tol=0.0001,\n",
       "                          validation_fraction=0.1, verbose=0, warm_start=False)"
      ]
     },
     "execution_count": 196,
     "metadata": {},
     "output_type": "execute_result"
    }
   ],
   "source": [
    "from sklearn import ensemble\n",
    "# Fit regression model\n",
    "params = {'n_estimators': 500, 'max_depth': 4, 'min_samples_split': 2,\n",
    "          'learning_rate': 0.01, 'loss': 'ls'}\n",
    "modelgbr = ensemble.GradientBoostingRegressor(**params)\n",
    "\n",
    "modelgbr.fit(train_X, train_Y)"
   ]
  },
  {
   "cell_type": "code",
   "execution_count": 197,
   "metadata": {},
   "outputs": [
    {
     "name": "stdout",
     "output_type": "stream",
     "text": [
      "model_Score: 0.999275172266374\n",
      "Mean squared error: 0.73\n",
      "R2 Score: 0.98\n"
     ]
    }
   ],
   "source": [
    "from sklearn.metrics import mean_squared_error, r2_score\n",
    "model_score = modelgbr.score(train_X,train_Y)\n",
    "print(\"model_Score:\",model_score)\n",
    "\n",
    "\n",
    "y_predictedgbr = modelgbr.predict(test_X)\n",
    "\n",
    "# The mean squared error\n",
    "print(\"Mean squared error: %.2f\"% mean_squared_error(test_Y, y_predictedgbr))\n",
    "# Explained variance score: 1 is perfect prediction\n",
    "print('R2 Score: %.2f' % r2_score(test_Y, y_predictedgbr))"
   ]
  },
  {
   "cell_type": "markdown",
   "metadata": {},
   "source": [
    "#### Lets Visualize the Goodness of the Prediction"
   ]
  },
  {
   "cell_type": "code",
   "execution_count": 198,
   "metadata": {},
   "outputs": [
    {
     "data": {
      "image/png": "[encoded data removed]",
      "text/plain": [
       "<Figure size 432x288 with 1 Axes>"
      ]
     },
     "metadata": {
      "needs_background": "light"
     },
     "output_type": "display_data"
    }
   ],
   "source": [
    "from sklearn.model_selection import cross_val_predict\n",
    "\n",
    "fig, ax = plt.subplots()\n",
    "ax.scatter(test_Y, y_predictedgbr, edgecolors=(0, 0, 0))\n",
    "ax.plot([test_Y.min(), test_Y.max()], [test_Y.min(), test_Y.max()], 'k--', lw=4)\n",
    "ax.set_xlabel('Actual')\n",
    "ax.set_ylabel('Predicted')\n",
    "ax.set_title(\"Ground Truth vs Predicted\")\n",
    "plt.show()"
   ]
  },
  {
   "cell_type": "markdown",
   "metadata": {},
   "source": [
    "### Linear Regression using Recursion"
   ]
  },
  {
   "cell_type": "code",
   "execution_count": 199,
   "metadata": {},
   "outputs": [],
   "source": [
    "from sklearn.model_selection import train_test_split\n",
    "train_X,test_X,train_Y,test_Y = train_test_split(X,Y,random_state=55,test_size=0.20)"
   ]
  },
  {
   "cell_type": "code",
   "execution_count": 200,
   "metadata": {},
   "outputs": [],
   "source": [
    "from sklearn.metrics import mean_absolute_error\n",
    "from sklearn.metrics import mean_squared_error\n",
    "from sklearn.metrics import r2_score\n",
    "from sklearn.model_selection import train_test_split\n",
    "def maxr2_score(regr,X,Y):\n",
    "    max_r_score=0\n",
    "    for r_state in range(42,100):\n",
    "        train_X,test_X,train_Y,test_Y=train_test_split(X,Y,test_size=.20,random_state=r_state)\n",
    "        regr.fit(train_X,train_Y)\n",
    "        y_pred = regr.predict(test_X)\n",
    "        r2_scr=r2_score(test_Y,y_pred)\n",
    "        print(\"r2 score corresponding to \",r_state,\"is\",r2_scr)\n",
    "        if r2_scr>max_r_score:\n",
    "            max_r_score=r2_scr\n",
    "            final_r_state=r_state\n",
    "    print(\"max r2 score corresponding to \",final_r_state,\"is\",max_r_score)\n",
    "    return final_r_state"
   ]
  },
  {
   "cell_type": "code",
   "execution_count": 201,
   "metadata": {},
   "outputs": [
    {
     "name": "stdout",
     "output_type": "stream",
     "text": [
      "r2 score corresponding to  42 is 0.8996743470591734\n",
      "r2 score corresponding to  43 is 0.9278006427530694\n",
      "r2 score corresponding to  44 is 0.8307354623475125\n",
      "r2 score corresponding to  45 is 0.8951874656511893\n",
      "r2 score corresponding to  46 is 0.8502747923160441\n",
      "r2 score corresponding to  47 is 0.8861535196315131\n",
      "r2 score corresponding to  48 is 0.9199526417276469\n",
      "r2 score corresponding to  49 is 0.8249642083513499\n",
      "r2 score corresponding to  50 is 0.8469693454551066\n",
      "r2 score corresponding to  51 is 0.9049819936668555\n",
      "r2 score corresponding to  52 is 0.8813753894105311\n",
      "r2 score corresponding to  53 is 0.9256875638861686\n",
      "r2 score corresponding to  54 is 0.9182888279066231\n",
      "r2 score corresponding to  55 is 0.9038303226842745\n",
      "r2 score corresponding to  56 is 0.8895696209473445\n",
      "r2 score corresponding to  57 is 0.9412101362997594\n",
      "r2 score corresponding to  58 is 0.8406697298254625\n",
      "r2 score corresponding to  59 is 0.9251717743473579\n",
      "r2 score corresponding to  60 is 0.9108160996624977\n",
      "r2 score corresponding to  61 is 0.879476577388556\n",
      "r2 score corresponding to  62 is 0.841939878567755\n",
      "r2 score corresponding to  63 is 0.9034840224356188\n",
      "r2 score corresponding to  64 is 0.8809291043951979\n",
      "r2 score corresponding to  65 is 0.893923950651847\n",
      "r2 score corresponding to  66 is 0.8898308695791404\n",
      "r2 score corresponding to  67 is 0.8819441298862538\n",
      "r2 score corresponding to  68 is 0.8704653542954974\n",
      "r2 score corresponding to  69 is 0.9216776498850786\n",
      "r2 score corresponding to  70 is 0.9261982408644345\n",
      "r2 score corresponding to  71 is 0.8244307287113819\n",
      "r2 score corresponding to  72 is 0.9077970688868611\n",
      "r2 score corresponding to  73 is 0.8412869530942428\n",
      "r2 score corresponding to  74 is 0.8808708650198234\n",
      "r2 score corresponding to  75 is 0.9076829446185094\n",
      "r2 score corresponding to  76 is 0.7484557154824742\n",
      "r2 score corresponding to  77 is 0.9372016923847291\n",
      "r2 score corresponding to  78 is 0.9020604713155667\n",
      "r2 score corresponding to  79 is 0.9041000753051541\n",
      "r2 score corresponding to  80 is 0.8069323264841433\n",
      "r2 score corresponding to  81 is 0.8617863049896289\n",
      "r2 score corresponding to  82 is 0.803222424894887\n",
      "r2 score corresponding to  83 is 0.9380758007668363\n",
      "r2 score corresponding to  84 is 0.902910213716436\n",
      "r2 score corresponding to  85 is 0.8453165844985739\n",
      "r2 score corresponding to  86 is 0.9106266908076494\n",
      "r2 score corresponding to  87 is 0.7649322265192882\n",
      "r2 score corresponding to  88 is 0.8398246441932475\n",
      "r2 score corresponding to  89 is 0.8750313366277598\n",
      "r2 score corresponding to  90 is 0.8510656295223844\n",
      "r2 score corresponding to  91 is 0.9043801574456358\n",
      "r2 score corresponding to  92 is 0.9511630103558466\n",
      "r2 score corresponding to  93 is 0.9127107178281293\n",
      "r2 score corresponding to  94 is 0.8576368723789923\n",
      "r2 score corresponding to  95 is 0.8929975361454907\n",
      "r2 score corresponding to  96 is 0.8601305211939272\n",
      "r2 score corresponding to  97 is 0.9109310575356077\n",
      "r2 score corresponding to  98 is 0.9399975659740444\n",
      "r2 score corresponding to  99 is 0.917627981637071\n",
      "max r2 score corresponding to  92 is 0.9511630103558466\n"
     ]
    }
   ],
   "source": [
    "# Lets use LinearRegression and check the max r2 score corresponding to different state\n",
    "from sklearn.linear_model import LinearRegression\n",
    "lreg = LinearRegression()\n",
    "r_state = maxr2_score(lreg,X,Y)"
   ]
  },
  {
   "cell_type": "markdown",
   "metadata": {},
   "source": [
    "### KNN Model"
   ]
  },
  {
   "cell_type": "code",
   "execution_count": 202,
   "metadata": {},
   "outputs": [
    {
     "name": "stdout",
     "output_type": "stream",
     "text": [
      "Mean squared error of knn: 0.74\n",
      "R2 Score of linear knn: 0.97\n"
     ]
    }
   ],
   "source": [
    "from sklearn.neighbors import KNeighborsRegressor\n",
    "knr1 = KNeighborsRegressor()\n",
    "knr1.fit(train_X,train_Y)\n",
    "knr1.score(train_X,train_Y)\n",
    "predicted=knr1.predict(test_X)\n",
    "print(\"Mean squared error of knn: %.2f\"% mean_squared_error(test_Y,predicted))\n",
    "print('R2 Score of linear knn: %.2f' % r2_score(test_Y, predicted))"
   ]
  },
  {
   "cell_type": "code",
   "execution_count": 203,
   "metadata": {},
   "outputs": [
    {
     "data": {
      "text/plain": [
       "{'n_neighbors': 3}"
      ]
     },
     "execution_count": 203,
     "metadata": {},
     "output_type": "execute_result"
    }
   ],
   "source": [
    "#Lets use the Grid Search to Find the Optimal Value of n_neighbors in Knn Model\n",
    "from sklearn.model_selection import GridSearchCV\n",
    "from sklearn.neighbors import KNeighborsRegressor\n",
    "from sklearn.neighbors import NearestNeighbors\n",
    "neighbors={\"n_neighbors\":range(1,30)}\n",
    "knr = KNeighborsRegressor()\n",
    "gknr = GridSearchCV(knr,neighbors,cv=10)\n",
    "gknr.fit(X,Y)\n",
    "gknr.best_params_"
   ]
  },
  {
   "cell_type": "code",
   "execution_count": 204,
   "metadata": {},
   "outputs": [
    {
     "name": "stdout",
     "output_type": "stream",
     "text": [
      "r2 score corresponding to  42 is 0.9727006159852547\n",
      "r2 score corresponding to  43 is 0.9629275483402363\n",
      "r2 score corresponding to  44 is 0.9162285540595307\n",
      "r2 score corresponding to  45 is 0.9483852326393578\n",
      "r2 score corresponding to  46 is 0.9534315429034935\n",
      "r2 score corresponding to  47 is 0.9670642534580132\n",
      "r2 score corresponding to  48 is 0.9695352866320163\n",
      "r2 score corresponding to  49 is 0.9509874210401206\n",
      "r2 score corresponding to  50 is 0.9532955428937098\n",
      "r2 score corresponding to  51 is 0.9564349229126627\n",
      "r2 score corresponding to  52 is 0.9650797434327518\n",
      "r2 score corresponding to  53 is 0.9790566285719587\n",
      "r2 score corresponding to  54 is 0.9687215697191763\n",
      "r2 score corresponding to  55 is 0.9621472514943892\n",
      "r2 score corresponding to  56 is 0.9703495491849609\n",
      "r2 score corresponding to  57 is 0.961978985976665\n",
      "r2 score corresponding to  58 is 0.9583095007918982\n",
      "r2 score corresponding to  59 is 0.9731401900207539\n",
      "r2 score corresponding to  60 is 0.9653450775592232\n",
      "r2 score corresponding to  61 is 0.9575263412933236\n",
      "r2 score corresponding to  62 is 0.9388524077411032\n",
      "r2 score corresponding to  63 is 0.9522383045209702\n",
      "r2 score corresponding to  64 is 0.9527610991557155\n",
      "r2 score corresponding to  65 is 0.9651524715533013\n",
      "r2 score corresponding to  66 is 0.9573338961350698\n",
      "r2 score corresponding to  67 is 0.9491179766354749\n",
      "r2 score corresponding to  68 is 0.9652102402524579\n",
      "r2 score corresponding to  69 is 0.9796785893822056\n",
      "r2 score corresponding to  70 is 0.9535366405763357\n",
      "r2 score corresponding to  71 is 0.952804228257361\n",
      "r2 score corresponding to  72 is 0.9629098219234842\n",
      "r2 score corresponding to  73 is 0.928219480481508\n",
      "r2 score corresponding to  74 is 0.9567413557451611\n",
      "r2 score corresponding to  75 is 0.9568815150989096\n",
      "r2 score corresponding to  76 is 0.925477451787134\n",
      "r2 score corresponding to  77 is 0.9715786089995675\n",
      "r2 score corresponding to  78 is 0.9426670520503092\n",
      "r2 score corresponding to  79 is 0.9565099388441329\n",
      "r2 score corresponding to  80 is 0.9503461323173122\n",
      "r2 score corresponding to  81 is 0.9444602203399607\n",
      "r2 score corresponding to  82 is 0.9173809583553277\n",
      "r2 score corresponding to  83 is 0.9612077801812501\n",
      "r2 score corresponding to  84 is 0.9599184779526104\n",
      "r2 score corresponding to  85 is 0.94524004665615\n",
      "r2 score corresponding to  86 is 0.9712106960937381\n",
      "r2 score corresponding to  87 is 0.9435815807869737\n",
      "r2 score corresponding to  88 is 0.9374242835399409\n",
      "r2 score corresponding to  89 is 0.9714114411373567\n",
      "r2 score corresponding to  90 is 0.9246347808014375\n",
      "r2 score corresponding to  91 is 0.9615628447488356\n",
      "r2 score corresponding to  92 is 0.9694101502531995\n",
      "r2 score corresponding to  93 is 0.9777776601893057\n",
      "r2 score corresponding to  94 is 0.9581262628920997\n",
      "r2 score corresponding to  95 is 0.949993137566287\n",
      "r2 score corresponding to  96 is 0.9512921549565511\n",
      "r2 score corresponding to  97 is 0.9763113826779969\n",
      "r2 score corresponding to  98 is 0.9690093057974298\n",
      "r2 score corresponding to  99 is 0.9776567150787427\n",
      "max r2 score corresponding to  69 is 0.9796785893822056\n"
     ]
    }
   ],
   "source": [
    "#Lets Use Knn Regression and Check max r2 score corresponding to different random states\n",
    "knr = KNeighborsRegressor(n_neighbors=3)\n",
    "r_state = maxr2_score(knr,X,Y)"
   ]
  },
  {
   "cell_type": "code",
   "execution_count": 205,
   "metadata": {},
   "outputs": [
    {
     "name": "stdout",
     "output_type": "stream",
     "text": [
      "Mean r2 score for Linear Regression: 0.8878198635211845\n",
      "Standard deviation in r2 scorefor Linear Regression: 0.0392299536891096\n",
      "\n",
      "Mean r2 score for KNN Regression:  0.9620765050266311\n",
      "Stadard deviation in r2 score for KNN Regression: 0.006095455600904392\n"
     ]
    }
   ],
   "source": [
    "#Lets check the mean r2 score of both linear regression model and knn regression \n",
    "from sklearn.model_selection import cross_val_score\n",
    "print(\"Mean r2 score for Linear Regression:\",cross_val_score(lreg,X,Y,cv=5,scoring=\"r2\").mean())\n",
    "print(\"Standard deviation in r2 scorefor Linear Regression:\",cross_val_score(lreg,X,Y,cv=5,scoring=\"r2\").std())\n",
    "print()\n",
    "print(\"Mean r2 score for KNN Regression: \",cross_val_score(knr,X,Y,cv=5,scoring=\"r2\").mean())\n",
    "print(\"Stadard deviation in r2 score for KNN Regression:\",cross_val_score(knr,X,Y,cv=5,scoring=\"r2\").std())"
   ]
  },
  {
   "cell_type": "markdown",
   "metadata": {},
   "source": [
    "### Boosting Linear Regression"
   ]
  },
  {
   "cell_type": "code",
   "execution_count": 206,
   "metadata": {},
   "outputs": [
    {
     "name": "stdout",
     "output_type": "stream",
     "text": [
      "Mean r2 score for ada boosting Regression:  0.9516924569211384\n",
      "Standard deviation in r2 score for ada boosting Regression:  0.012212700937524629\n"
     ]
    }
   ],
   "source": [
    "from sklearn.ensemble import AdaBoostRegressor\n",
    "ada_reg1=AdaBoostRegressor()\n",
    "add_reg1=AdaBoostRegressor(base_estimator=lreg,learning_rate=0.1,n_estimators=10)\n",
    "print(\"Mean r2 score for ada boosting Regression: \",cross_val_score(ada_reg1,X,Y,cv=5,scoring=\"r2\").mean())\n",
    "print(\"Standard deviation in r2 score for ada boosting Regression: \",cross_val_score(ada_reg1,X,Y,cv=5,scoring=\"r2\").std())"
   ]
  },
  {
   "cell_type": "markdown",
   "metadata": {},
   "source": [
    "### Boosting KNN model"
   ]
  },
  {
   "cell_type": "code",
   "execution_count": 207,
   "metadata": {},
   "outputs": [
    {
     "name": "stdout",
     "output_type": "stream",
     "text": [
      "Mean r2 score for ada boosting Regression:  0.9524960049544999\n",
      "Standard deviation in r2 score for ada boosting Regression:  0.013060271930298581\n"
     ]
    }
   ],
   "source": [
    "from sklearn.ensemble import AdaBoostRegressor\n",
    "ada_reg2=AdaBoostRegressor()\n",
    "add_reg2=AdaBoostRegressor(base_estimator=knr,learning_rate=0.1,n_estimators=10)\n",
    "print(\"Mean r2 score for ada boosting Regression: \",cross_val_score(ada_reg2,X,Y,cv=5,scoring=\"r2\").mean())\n",
    "print(\"Standard deviation in r2 score for ada boosting Regression: \",cross_val_score(ada_reg2,X,Y,cv=5,scoring=\"r2\").std())"
   ]
  },
  {
   "cell_type": "markdown",
   "metadata": {},
   "source": [
    "#### Lets check lasso regression and best value of alpha"
   ]
  },
  {
   "cell_type": "code",
   "execution_count": 208,
   "metadata": {},
   "outputs": [
    {
     "data": {
      "text/plain": [
       "{'alpha': 0.1}"
      ]
     },
     "execution_count": 208,
     "metadata": {},
     "output_type": "execute_result"
    }
   ],
   "source": [
    "from sklearn.linear_model import Lasso\n",
    "lsreg=Lasso()\n",
    "parameters={\"alpha\":[0.001,0.01,0.1,1]}\n",
    "clf = GridSearchCV(lsreg,parameters,cv=10)\n",
    "clf.fit(X,Y)\n",
    "clf.best_params_"
   ]
  },
  {
   "cell_type": "code",
   "execution_count": 209,
   "metadata": {},
   "outputs": [
    {
     "name": "stdout",
     "output_type": "stream",
     "text": [
      "Mean r2 score for Lasso Regression:  0.8892843289533665\n",
      "Standard deviation in r2 score for Lasso Regression:  0.037680177697708046\n"
     ]
    }
   ],
   "source": [
    "#Lets use cross val score with Lasso\n",
    "lasso_grs=Lasso(alpha = 0.1)\n",
    "print(\"Mean r2 score for Lasso Regression: \",cross_val_score(lasso_grs,X,Y,cv=5,scoring=\"r2\").mean())\n",
    "print(\"Standard deviation in r2 score for Lasso Regression: \",cross_val_score(lasso_grs,X,Y,cv=5,scoring=\"r2\").std())"
   ]
  },
  {
   "cell_type": "markdown",
   "metadata": {},
   "source": [
    "### Boosting Lasso Regressor"
   ]
  },
  {
   "cell_type": "code",
   "execution_count": 210,
   "metadata": {},
   "outputs": [
    {
     "name": "stdout",
     "output_type": "stream",
     "text": [
      "Mean r2 score for ada boosting Regression:  0.9519225383980778\n",
      "Standard deviation in r2 score for ada boosting Regression:  0.012651179778766206\n"
     ]
    }
   ],
   "source": [
    "from sklearn.ensemble import AdaBoostRegressor\n",
    "ada_reg3=AdaBoostRegressor()\n",
    "add_reg3=AdaBoostRegressor(base_estimator=lasso_grs,learning_rate=0.1,n_estimators=10)\n",
    "print(\"Mean r2 score for ada boosting Regression: \",cross_val_score(ada_reg3,X,Y,cv=5,scoring=\"r2\").mean())\n",
    "print(\"Standard deviation in r2 score for ada boosting Regression: \",cross_val_score(ada_reg3,X,Y,cv=5,scoring=\"r2\").std())"
   ]
  },
  {
   "cell_type": "markdown",
   "metadata": {},
   "source": [
    "### Support Vector Regression"
   ]
  },
  {
   "cell_type": "code",
   "execution_count": 211,
   "metadata": {},
   "outputs": [
    {
     "name": "stdout",
     "output_type": "stream",
     "text": [
      "Mean squared error of linear svc: 3.54\n",
      "R2 Score of linear svc: 0.86\n"
     ]
    }
   ],
   "source": [
    "from sklearn.svm import SVR\n",
    "from sklearn.metrics import mean_squared_error, r2_score\n",
    "\n",
    "svr1 = SVR(kernel = \"linear\")\n",
    "svr1.fit(train_X,train_Y)\n",
    "svr1.score(train_X,train_Y)\n",
    "y_pred1=svr1.predict(test_X)\n",
    "print(\"Mean squared error of linear svc: %.2f\"% mean_squared_error(test_Y,y_pred1))\n",
    "print('R2 Score of linear svc: %.2f' % r2_score(test_Y, y_pred1))"
   ]
  },
  {
   "cell_type": "markdown",
   "metadata": {},
   "source": [
    "#### Grid Search CV in Support Vector Regressor"
   ]
  },
  {
   "cell_type": "code",
   "execution_count": 212,
   "metadata": {},
   "outputs": [
    {
     "name": "stdout",
     "output_type": "stream",
     "text": [
      "Fitting 3 folds for each of 48 candidates, totalling 144 fits\n",
      "[CV] C=1.5, epsilon=0.1, gamma=1e-07, kernel=linear ..................\n"
     ]
    },
    {
     "name": "stderr",
     "output_type": "stream",
     "text": [
      "[Parallel(n_jobs=1)]: Using backend SequentialBackend with 1 concurrent workers.\n"
     ]
    },
    {
     "name": "stdout",
     "output_type": "stream",
     "text": [
      "[CV]  C=1.5, epsilon=0.1, gamma=1e-07, kernel=linear, score=0.906, total=   0.7s\n",
      "[CV] C=1.5, epsilon=0.1, gamma=1e-07, kernel=linear ..................\n"
     ]
    },
    {
     "name": "stderr",
     "output_type": "stream",
     "text": [
      "[Parallel(n_jobs=1)]: Done   1 out of   1 | elapsed:    0.6s remaining:    0.0s\n"
     ]
    },
    {
     "name": "stdout",
     "output_type": "stream",
     "text": [
      "[CV]  C=1.5, epsilon=0.1, gamma=1e-07, kernel=linear, score=0.842, total=   0.7s\n",
      "[CV] C=1.5, epsilon=0.1, gamma=1e-07, kernel=linear ..................\n"
     ]
    },
    {
     "name": "stderr",
     "output_type": "stream",
     "text": [
      "[Parallel(n_jobs=1)]: Done   2 out of   2 | elapsed:    1.4s remaining:    0.0s\n"
     ]
    },
    {
     "name": "stdout",
     "output_type": "stream",
     "text": [
      "[CV]  C=1.5, epsilon=0.1, gamma=1e-07, kernel=linear, score=0.901, total=   0.5s\n",
      "[CV] C=1.5, epsilon=0.1, gamma=1e-07, kernel=rbf .....................\n",
      "[CV]  C=1.5, epsilon=0.1, gamma=1e-07, kernel=rbf, score=-0.076, total=   0.0s\n",
      "[CV] C=1.5, epsilon=0.1, gamma=1e-07, kernel=rbf .....................\n",
      "[CV]  C=1.5, epsilon=0.1, gamma=1e-07, kernel=rbf, score=0.023, total=   0.0s\n",
      "[CV] C=1.5, epsilon=0.1, gamma=1e-07, kernel=rbf .....................\n",
      "[CV]  C=1.5, epsilon=0.1, gamma=1e-07, kernel=rbf, score=0.048, total=   0.0s\n",
      "[CV] C=1.5, epsilon=0.1, gamma=1e-07, kernel=poly ....................\n",
      "[CV]  C=1.5, epsilon=0.1, gamma=1e-07, kernel=poly, score=-0.124, total=   0.0s\n",
      "[CV] C=1.5, epsilon=0.1, gamma=1e-07, kernel=poly ....................\n",
      "[CV]  C=1.5, epsilon=0.1, gamma=1e-07, kernel=poly, score=-0.030, total=   0.0s\n",
      "[CV] C=1.5, epsilon=0.1, gamma=1e-07, kernel=poly ....................\n",
      "[CV]  C=1.5, epsilon=0.1, gamma=1e-07, kernel=poly, score=-0.008, total=   0.0s\n",
      "[CV] C=1.5, epsilon=0.1, gamma=0.0001, kernel=linear .................\n",
      "[CV]  C=1.5, epsilon=0.1, gamma=0.0001, kernel=linear, score=0.906, total=   0.5s\n",
      "[CV] C=1.5, epsilon=0.1, gamma=0.0001, kernel=linear .................\n",
      "[CV]  C=1.5, epsilon=0.1, gamma=0.0001, kernel=linear, score=0.842, total=   0.7s\n",
      "[CV] C=1.5, epsilon=0.1, gamma=0.0001, kernel=linear .................\n",
      "[CV]  C=1.5, epsilon=0.1, gamma=0.0001, kernel=linear, score=0.901, total=   0.5s\n",
      "[CV] C=1.5, epsilon=0.1, gamma=0.0001, kernel=rbf ....................\n",
      "[CV]  C=1.5, epsilon=0.1, gamma=0.0001, kernel=rbf, score=0.936, total=   0.0s\n",
      "[CV] C=1.5, epsilon=0.1, gamma=0.0001, kernel=rbf ....................\n",
      "[CV]  C=1.5, epsilon=0.1, gamma=0.0001, kernel=rbf, score=0.930, total=   0.0s\n",
      "[CV] C=1.5, epsilon=0.1, gamma=0.0001, kernel=rbf ....................\n",
      "[CV]  C=1.5, epsilon=0.1, gamma=0.0001, kernel=rbf, score=0.923, total=   0.0s\n",
      "[CV] C=1.5, epsilon=0.1, gamma=0.0001, kernel=poly ...................\n",
      "[CV]  C=1.5, epsilon=0.1, gamma=0.0001, kernel=poly, score=0.899, total=   0.0s\n",
      "[CV] C=1.5, epsilon=0.1, gamma=0.0001, kernel=poly ...................\n",
      "[CV]  C=1.5, epsilon=0.1, gamma=0.0001, kernel=poly, score=0.816, total=   0.0s\n",
      "[CV] C=1.5, epsilon=0.1, gamma=0.0001, kernel=poly ...................\n",
      "[CV]  C=1.5, epsilon=0.1, gamma=0.0001, kernel=poly, score=0.863, total=   0.0s\n",
      "[CV] C=1.5, epsilon=0.2, gamma=1e-07, kernel=linear ..................\n",
      "[CV]  C=1.5, epsilon=0.2, gamma=1e-07, kernel=linear, score=0.905, total=   1.7s\n",
      "[CV] C=1.5, epsilon=0.2, gamma=1e-07, kernel=linear ..................\n",
      "[CV]  C=1.5, epsilon=0.2, gamma=1e-07, kernel=linear, score=0.847, total=   0.7s\n",
      "[CV] C=1.5, epsilon=0.2, gamma=1e-07, kernel=linear ..................\n",
      "[CV]  C=1.5, epsilon=0.2, gamma=1e-07, kernel=linear, score=0.900, total=   1.0s\n",
      "[CV] C=1.5, epsilon=0.2, gamma=1e-07, kernel=rbf .....................\n",
      "[CV]  C=1.5, epsilon=0.2, gamma=1e-07, kernel=rbf, score=-0.069, total=   0.0s\n",
      "[CV] C=1.5, epsilon=0.2, gamma=1e-07, kernel=rbf .....................\n",
      "[CV]  C=1.5, epsilon=0.2, gamma=1e-07, kernel=rbf, score=0.021, total=   0.0s\n",
      "[CV] C=1.5, epsilon=0.2, gamma=1e-07, kernel=rbf .....................\n",
      "[CV]  C=1.5, epsilon=0.2, gamma=1e-07, kernel=rbf, score=0.048, total=   0.0s\n",
      "[CV] C=1.5, epsilon=0.2, gamma=1e-07, kernel=poly ....................\n",
      "[CV]  C=1.5, epsilon=0.2, gamma=1e-07, kernel=poly, score=-0.124, total=   0.0s\n",
      "[CV] C=1.5, epsilon=0.2, gamma=1e-07, kernel=poly ....................\n",
      "[CV]  C=1.5, epsilon=0.2, gamma=1e-07, kernel=poly, score=-0.027, total=   0.0s\n",
      "[CV] C=1.5, epsilon=0.2, gamma=1e-07, kernel=poly ....................\n",
      "[CV]  C=1.5, epsilon=0.2, gamma=1e-07, kernel=poly, score=-0.008, total=   0.0s\n",
      "[CV] C=1.5, epsilon=0.2, gamma=0.0001, kernel=linear .................\n",
      "[CV]  C=1.5, epsilon=0.2, gamma=0.0001, kernel=linear, score=0.905, total=   1.6s\n",
      "[CV] C=1.5, epsilon=0.2, gamma=0.0001, kernel=linear .................\n",
      "[CV]  C=1.5, epsilon=0.2, gamma=0.0001, kernel=linear, score=0.847, total=   0.5s\n",
      "[CV] C=1.5, epsilon=0.2, gamma=0.0001, kernel=linear .................\n",
      "[CV]  C=1.5, epsilon=0.2, gamma=0.0001, kernel=linear, score=0.900, total=   0.9s\n",
      "[CV] C=1.5, epsilon=0.2, gamma=0.0001, kernel=rbf ....................\n",
      "[CV]  C=1.5, epsilon=0.2, gamma=0.0001, kernel=rbf, score=0.936, total=   0.0s\n",
      "[CV] C=1.5, epsilon=0.2, gamma=0.0001, kernel=rbf ....................\n",
      "[CV]  C=1.5, epsilon=0.2, gamma=0.0001, kernel=rbf, score=0.930, total=   0.0s\n",
      "[CV] C=1.5, epsilon=0.2, gamma=0.0001, kernel=rbf ....................\n",
      "[CV]  C=1.5, epsilon=0.2, gamma=0.0001, kernel=rbf, score=0.921, total=   0.0s\n",
      "[CV] C=1.5, epsilon=0.2, gamma=0.0001, kernel=poly ...................\n",
      "[CV]  C=1.5, epsilon=0.2, gamma=0.0001, kernel=poly, score=0.900, total=   0.0s\n",
      "[CV] C=1.5, epsilon=0.2, gamma=0.0001, kernel=poly ...................\n",
      "[CV]  C=1.5, epsilon=0.2, gamma=0.0001, kernel=poly, score=0.817, total=   0.0s\n",
      "[CV] C=1.5, epsilon=0.2, gamma=0.0001, kernel=poly ...................\n",
      "[CV]  C=1.5, epsilon=0.2, gamma=0.0001, kernel=poly, score=0.865, total=   0.0s\n",
      "[CV] C=1.5, epsilon=0.5, gamma=1e-07, kernel=linear ..................\n",
      "[CV]  C=1.5, epsilon=0.5, gamma=1e-07, kernel=linear, score=0.902, total=   0.5s\n",
      "[CV] C=1.5, epsilon=0.5, gamma=1e-07, kernel=linear ..................\n",
      "[CV]  C=1.5, epsilon=0.5, gamma=1e-07, kernel=linear, score=0.848, total=   0.3s\n",
      "[CV] C=1.5, epsilon=0.5, gamma=1e-07, kernel=linear ..................\n",
      "[CV]  C=1.5, epsilon=0.5, gamma=1e-07, kernel=linear, score=0.896, total=   0.6s\n",
      "[CV] C=1.5, epsilon=0.5, gamma=1e-07, kernel=rbf .....................\n",
      "[CV]  C=1.5, epsilon=0.5, gamma=1e-07, kernel=rbf, score=-0.072, total=   0.0s\n",
      "[CV] C=1.5, epsilon=0.5, gamma=1e-07, kernel=rbf .....................\n",
      "[CV]  C=1.5, epsilon=0.5, gamma=1e-07, kernel=rbf, score=0.019, total=   0.0s\n",
      "[CV] C=1.5, epsilon=0.5, gamma=1e-07, kernel=rbf .....................\n",
      "[CV]  C=1.5, epsilon=0.5, gamma=1e-07, kernel=rbf, score=0.051, total=   0.0s\n",
      "[CV] C=1.5, epsilon=0.5, gamma=1e-07, kernel=poly ....................\n",
      "[CV]  C=1.5, epsilon=0.5, gamma=1e-07, kernel=poly, score=-0.118, total=   0.0s\n",
      "[CV] C=1.5, epsilon=0.5, gamma=1e-07, kernel=poly ....................\n",
      "[CV]  C=1.5, epsilon=0.5, gamma=1e-07, kernel=poly, score=-0.037, total=   0.0s\n",
      "[CV] C=1.5, epsilon=0.5, gamma=1e-07, kernel=poly ....................\n",
      "[CV]  C=1.5, epsilon=0.5, gamma=1e-07, kernel=poly, score=-0.004, total=   0.0s\n",
      "[CV] C=1.5, epsilon=0.5, gamma=0.0001, kernel=linear .................\n",
      "[CV]  C=1.5, epsilon=0.5, gamma=0.0001, kernel=linear, score=0.902, total=   0.7s\n",
      "[CV] C=1.5, epsilon=0.5, gamma=0.0001, kernel=linear .................\n",
      "[CV]  C=1.5, epsilon=0.5, gamma=0.0001, kernel=linear, score=0.848, total=   0.4s\n",
      "[CV] C=1.5, epsilon=0.5, gamma=0.0001, kernel=linear .................\n",
      "[CV]  C=1.5, epsilon=0.5, gamma=0.0001, kernel=linear, score=0.896, total=   0.4s\n",
      "[CV] C=1.5, epsilon=0.5, gamma=0.0001, kernel=rbf ....................\n",
      "[CV]  C=1.5, epsilon=0.5, gamma=0.0001, kernel=rbf, score=0.926, total=   0.0s\n",
      "[CV] C=1.5, epsilon=0.5, gamma=0.0001, kernel=rbf ....................\n",
      "[CV]  C=1.5, epsilon=0.5, gamma=0.0001, kernel=rbf, score=0.926, total=   0.0s\n",
      "[CV] C=1.5, epsilon=0.5, gamma=0.0001, kernel=rbf ....................\n",
      "[CV]  C=1.5, epsilon=0.5, gamma=0.0001, kernel=rbf, score=0.914, total=   0.0s\n",
      "[CV] C=1.5, epsilon=0.5, gamma=0.0001, kernel=poly ...................\n",
      "[CV]  C=1.5, epsilon=0.5, gamma=0.0001, kernel=poly, score=0.897, total=   0.0s\n",
      "[CV] C=1.5, epsilon=0.5, gamma=0.0001, kernel=poly ...................\n",
      "[CV]  C=1.5, epsilon=0.5, gamma=0.0001, kernel=poly, score=0.817, total=   0.0s\n",
      "[CV] C=1.5, epsilon=0.5, gamma=0.0001, kernel=poly ...................\n",
      "[CV]  C=1.5, epsilon=0.5, gamma=0.0001, kernel=poly, score=0.867, total=   0.0s\n",
      "[CV] C=1.5, epsilon=0.3, gamma=1e-07, kernel=linear ..................\n",
      "[CV]  C=1.5, epsilon=0.3, gamma=1e-07, kernel=linear, score=0.906, total=   0.6s\n",
      "[CV] C=1.5, epsilon=0.3, gamma=1e-07, kernel=linear ..................\n",
      "[CV]  C=1.5, epsilon=0.3, gamma=1e-07, kernel=linear, score=0.852, total=   0.4s\n",
      "[CV] C=1.5, epsilon=0.3, gamma=1e-07, kernel=linear ..................\n",
      "[CV]  C=1.5, epsilon=0.3, gamma=1e-07, kernel=linear, score=0.896, total=   0.5s\n",
      "[CV] C=1.5, epsilon=0.3, gamma=1e-07, kernel=rbf .....................\n",
      "[CV]  C=1.5, epsilon=0.3, gamma=1e-07, kernel=rbf, score=-0.068, total=   0.0s\n",
      "[CV] C=1.5, epsilon=0.3, gamma=1e-07, kernel=rbf .....................\n",
      "[CV]  C=1.5, epsilon=0.3, gamma=1e-07, kernel=rbf, score=0.024, total=   0.0s\n",
      "[CV] C=1.5, epsilon=0.3, gamma=1e-07, kernel=rbf .....................\n",
      "[CV]  C=1.5, epsilon=0.3, gamma=1e-07, kernel=rbf, score=0.050, total=   0.0s\n",
      "[CV] C=1.5, epsilon=0.3, gamma=1e-07, kernel=poly ....................\n",
      "[CV]  C=1.5, epsilon=0.3, gamma=1e-07, kernel=poly, score=-0.131, total=   0.0s\n",
      "[CV] C=1.5, epsilon=0.3, gamma=1e-07, kernel=poly ....................\n",
      "[CV]  C=1.5, epsilon=0.3, gamma=1e-07, kernel=poly, score=-0.027, total=   0.0s\n",
      "[CV] C=1.5, epsilon=0.3, gamma=1e-07, kernel=poly ....................\n",
      "[CV]  C=1.5, epsilon=0.3, gamma=1e-07, kernel=poly, score=-0.009, total=   0.0s\n",
      "[CV] C=1.5, epsilon=0.3, gamma=0.0001, kernel=linear .................\n"
     ]
    },
    {
     "name": "stdout",
     "output_type": "stream",
     "text": [
      "[CV]  C=1.5, epsilon=0.3, gamma=0.0001, kernel=linear, score=0.906, total=   0.6s\n",
      "[CV] C=1.5, epsilon=0.3, gamma=0.0001, kernel=linear .................\n",
      "[CV]  C=1.5, epsilon=0.3, gamma=0.0001, kernel=linear, score=0.852, total=   0.4s\n",
      "[CV] C=1.5, epsilon=0.3, gamma=0.0001, kernel=linear .................\n",
      "[CV]  C=1.5, epsilon=0.3, gamma=0.0001, kernel=linear, score=0.896, total=   0.5s\n",
      "[CV] C=1.5, epsilon=0.3, gamma=0.0001, kernel=rbf ....................\n",
      "[CV]  C=1.5, epsilon=0.3, gamma=0.0001, kernel=rbf, score=0.934, total=   0.0s\n",
      "[CV] C=1.5, epsilon=0.3, gamma=0.0001, kernel=rbf ....................\n",
      "[CV]  C=1.5, epsilon=0.3, gamma=0.0001, kernel=rbf, score=0.930, total=   0.0s\n",
      "[CV] C=1.5, epsilon=0.3, gamma=0.0001, kernel=rbf ....................\n",
      "[CV]  C=1.5, epsilon=0.3, gamma=0.0001, kernel=rbf, score=0.919, total=   0.0s\n",
      "[CV] C=1.5, epsilon=0.3, gamma=0.0001, kernel=poly ...................\n",
      "[CV]  C=1.5, epsilon=0.3, gamma=0.0001, kernel=poly, score=0.900, total=   0.0s\n",
      "[CV] C=1.5, epsilon=0.3, gamma=0.0001, kernel=poly ...................\n",
      "[CV]  C=1.5, epsilon=0.3, gamma=0.0001, kernel=poly, score=0.818, total=   0.0s\n",
      "[CV] C=1.5, epsilon=0.3, gamma=0.0001, kernel=poly ...................\n",
      "[CV]  C=1.5, epsilon=0.3, gamma=0.0001, kernel=poly, score=0.867, total=   0.0s\n",
      "[CV] C=10, epsilon=0.1, gamma=1e-07, kernel=linear ...................\n",
      "[CV]  C=10, epsilon=0.1, gamma=1e-07, kernel=linear, score=0.905, total=   3.8s\n",
      "[CV] C=10, epsilon=0.1, gamma=1e-07, kernel=linear ...................\n",
      "[CV]  C=10, epsilon=0.1, gamma=1e-07, kernel=linear, score=0.840, total=   4.3s\n",
      "[CV] C=10, epsilon=0.1, gamma=1e-07, kernel=linear ...................\n",
      "[CV]  C=10, epsilon=0.1, gamma=1e-07, kernel=linear, score=0.901, total=   4.0s\n",
      "[CV] C=10, epsilon=0.1, gamma=1e-07, kernel=rbf ......................\n",
      "[CV]  C=10, epsilon=0.1, gamma=1e-07, kernel=rbf, score=0.146, total=   0.0s\n",
      "[CV] C=10, epsilon=0.1, gamma=1e-07, kernel=rbf ......................\n",
      "[CV]  C=10, epsilon=0.1, gamma=1e-07, kernel=rbf, score=0.240, total=   0.0s\n",
      "[CV] C=10, epsilon=0.1, gamma=1e-07, kernel=rbf ......................\n",
      "[CV]  C=10, epsilon=0.1, gamma=1e-07, kernel=rbf, score=0.290, total=   0.0s\n",
      "[CV] C=10, epsilon=0.1, gamma=1e-07, kernel=poly .....................\n",
      "[CV]  C=10, epsilon=0.1, gamma=1e-07, kernel=poly, score=-0.124, total=   0.0s\n",
      "[CV] C=10, epsilon=0.1, gamma=1e-07, kernel=poly .....................\n",
      "[CV]  C=10, epsilon=0.1, gamma=1e-07, kernel=poly, score=-0.030, total=   0.0s\n",
      "[CV] C=10, epsilon=0.1, gamma=1e-07, kernel=poly .....................\n",
      "[CV]  C=10, epsilon=0.1, gamma=1e-07, kernel=poly, score=-0.007, total=   0.0s\n",
      "[CV] C=10, epsilon=0.1, gamma=0.0001, kernel=linear ..................\n",
      "[CV]  C=10, epsilon=0.1, gamma=0.0001, kernel=linear, score=0.905, total=   3.6s\n",
      "[CV] C=10, epsilon=0.1, gamma=0.0001, kernel=linear ..................\n",
      "[CV]  C=10, epsilon=0.1, gamma=0.0001, kernel=linear, score=0.840, total=   4.3s\n",
      "[CV] C=10, epsilon=0.1, gamma=0.0001, kernel=linear ..................\n",
      "[CV]  C=10, epsilon=0.1, gamma=0.0001, kernel=linear, score=0.901, total=   4.0s\n",
      "[CV] C=10, epsilon=0.1, gamma=0.0001, kernel=rbf .....................\n",
      "[CV]  C=10, epsilon=0.1, gamma=0.0001, kernel=rbf, score=0.992, total=   0.0s\n",
      "[CV] C=10, epsilon=0.1, gamma=0.0001, kernel=rbf .....................\n",
      "[CV]  C=10, epsilon=0.1, gamma=0.0001, kernel=rbf, score=0.975, total=   0.0s\n",
      "[CV] C=10, epsilon=0.1, gamma=0.0001, kernel=rbf .....................\n",
      "[CV]  C=10, epsilon=0.1, gamma=0.0001, kernel=rbf, score=0.991, total=   0.0s\n",
      "[CV] C=10, epsilon=0.1, gamma=0.0001, kernel=poly ....................\n",
      "[CV]  C=10, epsilon=0.1, gamma=0.0001, kernel=poly, score=0.907, total=   0.1s\n",
      "[CV] C=10, epsilon=0.1, gamma=0.0001, kernel=poly ....................\n",
      "[CV]  C=10, epsilon=0.1, gamma=0.0001, kernel=poly, score=0.836, total=   0.0s\n",
      "[CV] C=10, epsilon=0.1, gamma=0.0001, kernel=poly ....................\n",
      "[CV]  C=10, epsilon=0.1, gamma=0.0001, kernel=poly, score=0.867, total=   0.0s\n",
      "[CV] C=10, epsilon=0.2, gamma=1e-07, kernel=linear ...................\n",
      "[CV]  C=10, epsilon=0.2, gamma=1e-07, kernel=linear, score=0.905, total=   3.8s\n",
      "[CV] C=10, epsilon=0.2, gamma=1e-07, kernel=linear ...................\n",
      "[CV]  C=10, epsilon=0.2, gamma=1e-07, kernel=linear, score=0.845, total=   4.0s\n",
      "[CV] C=10, epsilon=0.2, gamma=1e-07, kernel=linear ...................\n",
      "[CV]  C=10, epsilon=0.2, gamma=1e-07, kernel=linear, score=0.901, total=   4.4s\n",
      "[CV] C=10, epsilon=0.2, gamma=1e-07, kernel=rbf ......................\n",
      "[CV]  C=10, epsilon=0.2, gamma=1e-07, kernel=rbf, score=0.156, total=   0.0s\n",
      "[CV] C=10, epsilon=0.2, gamma=1e-07, kernel=rbf ......................\n",
      "[CV]  C=10, epsilon=0.2, gamma=1e-07, kernel=rbf, score=0.250, total=   0.0s\n",
      "[CV] C=10, epsilon=0.2, gamma=1e-07, kernel=rbf ......................\n",
      "[CV]  C=10, epsilon=0.2, gamma=1e-07, kernel=rbf, score=0.291, total=   0.0s\n",
      "[CV] C=10, epsilon=0.2, gamma=1e-07, kernel=poly .....................\n",
      "[CV]  C=10, epsilon=0.2, gamma=1e-07, kernel=poly, score=-0.124, total=   0.0s\n",
      "[CV] C=10, epsilon=0.2, gamma=1e-07, kernel=poly .....................\n",
      "[CV]  C=10, epsilon=0.2, gamma=1e-07, kernel=poly, score=-0.027, total=   0.0s\n",
      "[CV] C=10, epsilon=0.2, gamma=1e-07, kernel=poly .....................\n",
      "[CV]  C=10, epsilon=0.2, gamma=1e-07, kernel=poly, score=-0.007, total=   0.0s\n",
      "[CV] C=10, epsilon=0.2, gamma=0.0001, kernel=linear ..................\n",
      "[CV]  C=10, epsilon=0.2, gamma=0.0001, kernel=linear, score=0.905, total=   3.7s\n",
      "[CV] C=10, epsilon=0.2, gamma=0.0001, kernel=linear ..................\n",
      "[CV]  C=10, epsilon=0.2, gamma=0.0001, kernel=linear, score=0.845, total=   4.2s\n",
      "[CV] C=10, epsilon=0.2, gamma=0.0001, kernel=linear ..................\n",
      "[CV]  C=10, epsilon=0.2, gamma=0.0001, kernel=linear, score=0.901, total=   4.3s\n",
      "[CV] C=10, epsilon=0.2, gamma=0.0001, kernel=rbf .....................\n",
      "[CV]  C=10, epsilon=0.2, gamma=0.0001, kernel=rbf, score=0.992, total=   0.0s\n",
      "[CV] C=10, epsilon=0.2, gamma=0.0001, kernel=rbf .....................\n",
      "[CV]  C=10, epsilon=0.2, gamma=0.0001, kernel=rbf, score=0.977, total=   0.0s\n",
      "[CV] C=10, epsilon=0.2, gamma=0.0001, kernel=rbf .....................\n",
      "[CV]  C=10, epsilon=0.2, gamma=0.0001, kernel=rbf, score=0.991, total=   0.0s\n",
      "[CV] C=10, epsilon=0.2, gamma=0.0001, kernel=poly ....................\n",
      "[CV]  C=10, epsilon=0.2, gamma=0.0001, kernel=poly, score=0.910, total=   0.0s\n",
      "[CV] C=10, epsilon=0.2, gamma=0.0001, kernel=poly ....................\n",
      "[CV]  C=10, epsilon=0.2, gamma=0.0001, kernel=poly, score=0.834, total=   0.1s\n",
      "[CV] C=10, epsilon=0.2, gamma=0.0001, kernel=poly ....................\n",
      "[CV]  C=10, epsilon=0.2, gamma=0.0001, kernel=poly, score=0.868, total=   0.0s\n",
      "[CV] C=10, epsilon=0.5, gamma=1e-07, kernel=linear ...................\n",
      "[CV]  C=10, epsilon=0.5, gamma=1e-07, kernel=linear, score=0.901, total=   2.4s\n",
      "[CV] C=10, epsilon=0.5, gamma=1e-07, kernel=linear ...................\n",
      "[CV]  C=10, epsilon=0.5, gamma=1e-07, kernel=linear, score=0.847, total=   1.9s\n",
      "[CV] C=10, epsilon=0.5, gamma=1e-07, kernel=linear ...................\n",
      "[CV]  C=10, epsilon=0.5, gamma=1e-07, kernel=linear, score=0.896, total=   4.6s\n",
      "[CV] C=10, epsilon=0.5, gamma=1e-07, kernel=rbf ......................\n",
      "[CV]  C=10, epsilon=0.5, gamma=1e-07, kernel=rbf, score=0.175, total=   0.0s\n",
      "[CV] C=10, epsilon=0.5, gamma=1e-07, kernel=rbf ......................\n",
      "[CV]  C=10, epsilon=0.5, gamma=1e-07, kernel=rbf, score=0.264, total=   0.0s\n",
      "[CV] C=10, epsilon=0.5, gamma=1e-07, kernel=rbf ......................\n",
      "[CV]  C=10, epsilon=0.5, gamma=1e-07, kernel=rbf, score=0.288, total=   0.0s\n",
      "[CV] C=10, epsilon=0.5, gamma=1e-07, kernel=poly .....................\n",
      "[CV]  C=10, epsilon=0.5, gamma=1e-07, kernel=poly, score=-0.118, total=   0.0s\n",
      "[CV] C=10, epsilon=0.5, gamma=1e-07, kernel=poly .....................\n",
      "[CV]  C=10, epsilon=0.5, gamma=1e-07, kernel=poly, score=-0.037, total=   0.0s\n",
      "[CV] C=10, epsilon=0.5, gamma=1e-07, kernel=poly .....................\n",
      "[CV]  C=10, epsilon=0.5, gamma=1e-07, kernel=poly, score=-0.004, total=   0.0s\n",
      "[CV] C=10, epsilon=0.5, gamma=0.0001, kernel=linear ..................\n",
      "[CV]  C=10, epsilon=0.5, gamma=0.0001, kernel=linear, score=0.901, total=   2.6s\n",
      "[CV] C=10, epsilon=0.5, gamma=0.0001, kernel=linear ..................\n"
     ]
    },
    {
     "name": "stdout",
     "output_type": "stream",
     "text": [
      "[CV]  C=10, epsilon=0.5, gamma=0.0001, kernel=linear, score=0.847, total=   1.9s\n",
      "[CV] C=10, epsilon=0.5, gamma=0.0001, kernel=linear ..................\n",
      "[CV]  C=10, epsilon=0.5, gamma=0.0001, kernel=linear, score=0.896, total=   4.6s\n",
      "[CV] C=10, epsilon=0.5, gamma=0.0001, kernel=rbf .....................\n",
      "[CV]  C=10, epsilon=0.5, gamma=0.0001, kernel=rbf, score=0.991, total=   0.0s\n",
      "[CV] C=10, epsilon=0.5, gamma=0.0001, kernel=rbf .....................\n",
      "[CV]  C=10, epsilon=0.5, gamma=0.0001, kernel=rbf, score=0.976, total=   0.0s\n",
      "[CV] C=10, epsilon=0.5, gamma=0.0001, kernel=rbf .....................\n",
      "[CV]  C=10, epsilon=0.5, gamma=0.0001, kernel=rbf, score=0.990, total=   0.0s\n",
      "[CV] C=10, epsilon=0.5, gamma=0.0001, kernel=poly ....................\n",
      "[CV]  C=10, epsilon=0.5, gamma=0.0001, kernel=poly, score=0.911, total=   0.0s\n",
      "[CV] C=10, epsilon=0.5, gamma=0.0001, kernel=poly ....................\n",
      "[CV]  C=10, epsilon=0.5, gamma=0.0001, kernel=poly, score=0.834, total=   0.0s\n",
      "[CV] C=10, epsilon=0.5, gamma=0.0001, kernel=poly ....................\n",
      "[CV]  C=10, epsilon=0.5, gamma=0.0001, kernel=poly, score=0.875, total=   0.0s\n",
      "[CV] C=10, epsilon=0.3, gamma=1e-07, kernel=linear ...................\n",
      "[CV]  C=10, epsilon=0.3, gamma=1e-07, kernel=linear, score=0.904, total=   4.1s\n",
      "[CV] C=10, epsilon=0.3, gamma=1e-07, kernel=linear ...................\n",
      "[CV]  C=10, epsilon=0.3, gamma=1e-07, kernel=linear, score=0.853, total=   4.9s\n",
      "[CV] C=10, epsilon=0.3, gamma=1e-07, kernel=linear ...................\n",
      "[CV]  C=10, epsilon=0.3, gamma=1e-07, kernel=linear, score=0.897, total=   2.9s\n",
      "[CV] C=10, epsilon=0.3, gamma=1e-07, kernel=rbf ......................\n",
      "[CV]  C=10, epsilon=0.3, gamma=1e-07, kernel=rbf, score=0.166, total=   0.0s\n",
      "[CV] C=10, epsilon=0.3, gamma=1e-07, kernel=rbf ......................\n",
      "[CV]  C=10, epsilon=0.3, gamma=1e-07, kernel=rbf, score=0.259, total=   0.0s\n",
      "[CV] C=10, epsilon=0.3, gamma=1e-07, kernel=rbf ......................\n",
      "[CV]  C=10, epsilon=0.3, gamma=1e-07, kernel=rbf, score=0.289, total=   0.0s\n",
      "[CV] C=10, epsilon=0.3, gamma=1e-07, kernel=poly .....................\n",
      "[CV]  C=10, epsilon=0.3, gamma=1e-07, kernel=poly, score=-0.131, total=   0.0s\n",
      "[CV] C=10, epsilon=0.3, gamma=1e-07, kernel=poly .....................\n",
      "[CV]  C=10, epsilon=0.3, gamma=1e-07, kernel=poly, score=-0.027, total=   0.0s\n",
      "[CV] C=10, epsilon=0.3, gamma=1e-07, kernel=poly .....................\n",
      "[CV]  C=10, epsilon=0.3, gamma=1e-07, kernel=poly, score=-0.009, total=   0.0s\n",
      "[CV] C=10, epsilon=0.3, gamma=0.0001, kernel=linear ..................\n",
      "[CV]  C=10, epsilon=0.3, gamma=0.0001, kernel=linear, score=0.904, total=   4.1s\n",
      "[CV] C=10, epsilon=0.3, gamma=0.0001, kernel=linear ..................\n",
      "[CV]  C=10, epsilon=0.3, gamma=0.0001, kernel=linear, score=0.853, total=   4.9s\n",
      "[CV] C=10, epsilon=0.3, gamma=0.0001, kernel=linear ..................\n",
      "[CV]  C=10, epsilon=0.3, gamma=0.0001, kernel=linear, score=0.897, total=   2.9s\n",
      "[CV] C=10, epsilon=0.3, gamma=0.0001, kernel=rbf .....................\n",
      "[CV]  C=10, epsilon=0.3, gamma=0.0001, kernel=rbf, score=0.992, total=   0.0s\n",
      "[CV] C=10, epsilon=0.3, gamma=0.0001, kernel=rbf .....................\n",
      "[CV]  C=10, epsilon=0.3, gamma=0.0001, kernel=rbf, score=0.978, total=   0.0s\n",
      "[CV] C=10, epsilon=0.3, gamma=0.0001, kernel=rbf .....................\n",
      "[CV]  C=10, epsilon=0.3, gamma=0.0001, kernel=rbf, score=0.991, total=   0.0s\n",
      "[CV] C=10, epsilon=0.3, gamma=0.0001, kernel=poly ....................\n",
      "[CV]  C=10, epsilon=0.3, gamma=0.0001, kernel=poly, score=0.911, total=   0.0s\n",
      "[CV] C=10, epsilon=0.3, gamma=0.0001, kernel=poly ....................\n",
      "[CV]  C=10, epsilon=0.3, gamma=0.0001, kernel=poly, score=0.832, total=   0.0s\n",
      "[CV] C=10, epsilon=0.3, gamma=0.0001, kernel=poly ....................\n",
      "[CV]  C=10, epsilon=0.3, gamma=0.0001, kernel=poly, score=0.869, total=   0.0s\n"
     ]
    },
    {
     "name": "stderr",
     "output_type": "stream",
     "text": [
      "[Parallel(n_jobs=1)]: Done 144 out of 144 | elapsed:  1.8min finished\n"
     ]
    },
    {
     "data": {
      "text/plain": [
       "{'C': 10, 'epsilon': 0.3, 'gamma': 0.0001, 'kernel': 'rbf'}"
      ]
     },
     "execution_count": 212,
     "metadata": {},
     "output_type": "execute_result"
    }
   ],
   "source": [
    "from sklearn.svm import SVR\n",
    "import numpy as np\n",
    "parameters = {'kernel': ('linear', 'rbf','poly'), 'C':[1.5, 10],'gamma': [1e-7, 1e-4],'epsilon':[0.1,0.2,0.5,0.3]}\n",
    "svr = SVR()\n",
    "grs = GridSearchCV(svr, parameters,refit = True, verbose = 3)\n",
    "grs.fit(X,Y)\n",
    "grs.best_params_"
   ]
  },
  {
   "cell_type": "code",
   "execution_count": 213,
   "metadata": {},
   "outputs": [
    {
     "name": "stdout",
     "output_type": "stream",
     "text": [
      "Mean r2 score for ada boosting Regression:  0.9875979757489626\n",
      "Standard deviation in r2 score for ada boosting Regression:  0.010836927195325119\n"
     ]
    }
   ],
   "source": [
    "svr_grs=SVR(C=10, epsilon=0.3, gamma=0.0001, kernel='rbf')\n",
    "print(\"Mean r2 score for ada boosting Regression: \",cross_val_score(svr_grs,X,Y,cv=5,scoring=\"r2\").mean())\n",
    "print(\"Standard deviation in r2 score for ada boosting Regression: \",cross_val_score(svr_grs,X,Y,cv=5,scoring=\"r2\").std())"
   ]
  },
  {
   "cell_type": "markdown",
   "metadata": {},
   "source": [
    "### Boosting Support Vector Machine"
   ]
  },
  {
   "cell_type": "code",
   "execution_count": 214,
   "metadata": {},
   "outputs": [],
   "source": [
    "from sklearn.ensemble import AdaBoostRegressor"
   ]
  },
  {
   "cell_type": "code",
   "execution_count": 215,
   "metadata": {},
   "outputs": [
    {
     "name": "stdout",
     "output_type": "stream",
     "text": [
      "Mean r2 score for ada boosting Regression:  0.9500581108190019\n",
      "Standard deviation in r2 score for ada boosting Regression:  0.012735548033741996\n"
     ]
    }
   ],
   "source": [
    "ada_reg4=AdaBoostRegressor()\n",
    "add_reg4=AdaBoostRegressor(base_estimator=svr_grs,learning_rate=0.1,n_estimators=10)\n",
    "print(\"Mean r2 score for ada boosting Regression: \",cross_val_score(ada_reg4,X,Y,cv=5,scoring=\"r2\").mean())\n",
    "print(\"Standard deviation in r2 score for ada boosting Regression: \",cross_val_score(ada_reg4,X,Y,cv=5,scoring=\"r2\").std())"
   ]
  },
  {
   "cell_type": "markdown",
   "metadata": {},
   "source": [
    "### Decision Tree Regressor"
   ]
  },
  {
   "cell_type": "code",
   "execution_count": 216,
   "metadata": {},
   "outputs": [
    {
     "name": "stdout",
     "output_type": "stream",
     "text": [
      "Mean squared error of Decision Tree Regressor: 0.00\n",
      "R2 Score : 1.00\n"
     ]
    }
   ],
   "source": [
    "from sklearn.tree import DecisionTreeRegressor\n",
    "from sklearn.metrics import mean_squared_error, r2_score\n",
    "  \n",
    "\n",
    "dtregressor = DecisionTreeRegressor(random_state = 0)  \n",
    "  \n",
    " \n",
    "dtregressor.fit(X, Y) \n",
    "\n",
    "dtregressor.score(train_X,train_Y)\n",
    "y_pred4=dtregressor.predict(test_X)\n",
    "print(\"Mean squared error of Decision Tree Regressor: %.2f\"% mean_squared_error(test_Y,y_pred4))\n",
    "print('R2 Score : %.2f' % r2_score(test_Y, y_pred4))"
   ]
  },
  {
   "cell_type": "markdown",
   "metadata": {},
   "source": [
    "### Decision Tree Regressor Using GridSearchCV"
   ]
  },
  {
   "cell_type": "code",
   "execution_count": 217,
   "metadata": {},
   "outputs": [
    {
     "name": "stdout",
     "output_type": "stream",
     "text": [
      "R-Squared on train dataset=0.9263624249762629\n",
      "R-Squaredon test dataset=0.9726454040353391\n"
     ]
    }
   ],
   "source": [
    "dtm = DecisionTreeRegressor(max_depth=4,\n",
    "                           min_samples_split=5,\n",
    "                           max_leaf_nodes=10)\n",
    "\n",
    "dtm.fit(X,Y)\n",
    "print(\"R-Squared on train dataset={}\".format(dtm.score(test_X,test_Y)))\n",
    "\n",
    "dtm.fit(test_X,test_Y)   \n",
    "print(\"R-Squaredon test dataset={}\".format(dtm.score(test_X,test_Y)))"
   ]
  },
  {
   "cell_type": "code",
   "execution_count": 218,
   "metadata": {},
   "outputs": [
    {
     "data": {
      "text/plain": [
       "GridSearchCV(cv=5, error_score='raise-deprecating',\n",
       "             estimator=DecisionTreeRegressor(criterion='mse', max_depth=4,\n",
       "                                             max_features=None,\n",
       "                                             max_leaf_nodes=10,\n",
       "                                             min_impurity_decrease=0.0,\n",
       "                                             min_impurity_split=None,\n",
       "                                             min_samples_leaf=1,\n",
       "                                             min_samples_split=5,\n",
       "                                             min_weight_fraction_leaf=0.0,\n",
       "                                             presort=False, random_state=None,\n",
       "                                             splitter='best'),\n",
       "             iid='warn', n_jobs=None,\n",
       "             param_grid={'criterion': ['mse', 'mae'], 'max_depth': [2, 6, 8],\n",
       "                         'max_leaf_nodes': [5, 20, 100],\n",
       "                         'min_samples_leaf': [20, 40, 100],\n",
       "                         'min_samples_split': [10, 20, 40]},\n",
       "             pre_dispatch='2*n_jobs', refit=True, return_train_score=False,\n",
       "             scoring=None, verbose=0)"
      ]
     },
     "execution_count": 218,
     "metadata": {},
     "output_type": "execute_result"
    }
   ],
   "source": [
    "param_grid = {\"criterion\": [\"mse\", \"mae\"],\n",
    "              \"min_samples_split\": [10, 20, 40],\n",
    "              \"max_depth\": [2, 6, 8],\n",
    "              \"min_samples_leaf\": [20, 40, 100],\n",
    "              \"max_leaf_nodes\": [5, 20, 100],\n",
    "              }\n",
    "\n",
    "\n",
    "grid_cv_dtm = GridSearchCV(dtm, param_grid, cv=5)\n",
    "\n",
    "grid_cv_dtm.fit(X,Y)"
   ]
  },
  {
   "cell_type": "code",
   "execution_count": 219,
   "metadata": {},
   "outputs": [
    {
     "name": "stdout",
     "output_type": "stream",
     "text": [
      "R-Squared::0.8221105647986653\n",
      "Best Hyperparameters::\n",
      "{'criterion': 'mse', 'max_depth': 6, 'max_leaf_nodes': 100, 'min_samples_leaf': 20, 'min_samples_split': 10}\n"
     ]
    }
   ],
   "source": [
    "print(\"R-Squared::{}\".format(grid_cv_dtm.best_score_))\n",
    "print(\"Best Hyperparameters::\\n{}\".format(grid_cv_dtm.best_params_))"
   ]
  },
  {
   "cell_type": "markdown",
   "metadata": {},
   "source": [
    "### Boosting Decision Tree"
   ]
  },
  {
   "cell_type": "code",
   "execution_count": 220,
   "metadata": {},
   "outputs": [],
   "source": [
    "from sklearn.ensemble import AdaBoostRegressor"
   ]
  },
  {
   "cell_type": "code",
   "execution_count": 221,
   "metadata": {},
   "outputs": [
    {
     "name": "stdout",
     "output_type": "stream",
     "text": [
      "Mean r2 score for ada boosting Regression:  0.9213744544367881\n",
      "Standard deviation in r2 score for ada boosting Regression:  0.0142001408708771\n"
     ]
    }
   ],
   "source": [
    "ada_reg5=AdaBoostRegressor()\n",
    "add_reg5=AdaBoostRegressor(base_estimator=dtm,learning_rate=0.1,n_estimators=10)\n",
    "print(\"Mean r2 score for ada boosting Regression: \",cross_val_score(add_reg5,X,Y,cv=5,scoring=\"r2\").mean())\n",
    "print(\"Standard deviation in r2 score for ada boosting Regression: \",cross_val_score(add_reg5,X,Y,cv=5,scoring=\"r2\").std())"
   ]
  },
  {
   "cell_type": "markdown",
   "metadata": {},
   "source": [
    "### Random Forest Regressor"
   ]
  },
  {
   "cell_type": "code",
   "execution_count": 222,
   "metadata": {},
   "outputs": [
    {
     "name": "stdout",
     "output_type": "stream",
     "text": [
      "Mean squared error of poly svc: 1.03\n",
      "R2 Score : 0.96\n"
     ]
    }
   ],
   "source": [
    "from sklearn.ensemble import RandomForestRegressor\n",
    "rfregressor = RandomForestRegressor(n_estimators=5)\n",
    "rfregressor.fit(train_X, train_Y)\n",
    "y_pred5 = rfregressor.predict(test_X)\n",
    "print(\"Mean squared error of poly svc: %.2f\"% mean_squared_error(test_Y,y_pred5))\n",
    "print('R2 Score : %.2f' % r2_score(test_Y, y_pred5))"
   ]
  },
  {
   "cell_type": "markdown",
   "metadata": {},
   "source": [
    "#### Random Forest Regressor with GridSearchCV"
   ]
  },
  {
   "cell_type": "code",
   "execution_count": 223,
   "metadata": {},
   "outputs": [],
   "source": [
    "rf_gs = RandomForestRegressor(n_estimators=100)"
   ]
  },
  {
   "cell_type": "code",
   "execution_count": 224,
   "metadata": {},
   "outputs": [],
   "source": [
    "n_features = X.shape[1]"
   ]
  },
  {
   "cell_type": "code",
   "execution_count": 225,
   "metadata": {},
   "outputs": [
    {
     "name": "stdout",
     "output_type": "stream",
     "text": [
      "{'max_features': 3, 'max_depth': 9}\n"
     ]
    }
   ],
   "source": [
    "from sklearn.model_selection import RandomizedSearchCV\n",
    "grid = RandomizedSearchCV(rf_gs, n_iter=20, \n",
    "            param_distributions=dict(\n",
    "                                          max_depth=np.arange(5,20+1), \n",
    "                                          max_features=np.arange(1, n_features+1)\n",
    "                                    )\n",
    "         )\n",
    "grid.fit(X, Y)\n",
    "print(grid.best_params_)"
   ]
  },
  {
   "cell_type": "code",
   "execution_count": 226,
   "metadata": {},
   "outputs": [
    {
     "name": "stdout",
     "output_type": "stream",
     "text": [
      "Mean r2 score for ada boosting Regression:  0.9689833441111491\n",
      "Standard deviation in r2 score for ada boosting Regression:  0.00946671556311162\n"
     ]
    }
   ],
   "source": [
    "rf_gss = RandomForestRegressor(max_features = 3, max_depth = 14)\n",
    "print(\"Mean r2 score for ada boosting Regression: \",cross_val_score(rf_gss,X,Y,cv=5,scoring=\"r2\").mean())\n",
    "print(\"Standard deviation in r2 score for ada boosting Regression: \",cross_val_score(rf_gss,X,Y,cv=5,scoring=\"r2\").std())"
   ]
  },
  {
   "cell_type": "markdown",
   "metadata": {},
   "source": [
    "#### Boosting RandomForestRegressor"
   ]
  },
  {
   "cell_type": "code",
   "execution_count": 227,
   "metadata": {},
   "outputs": [
    {
     "name": "stdout",
     "output_type": "stream",
     "text": [
      "Mean r2 score for ada boosting Regression:  0.9748161118369069\n",
      "Standard deviation in r2 score for ada boosting Regression:  0.010427397410435411\n"
     ]
    }
   ],
   "source": [
    "from sklearn.ensemble import AdaBoostRegressor\n",
    "ada_reg6=AdaBoostRegressor()\n",
    "add_reg6=AdaBoostRegressor(base_estimator=rfregressor,learning_rate=0.1,n_estimators=10)\n",
    "print(\"Mean r2 score for ada boosting Regression: \",cross_val_score(add_reg6,X,Y,cv=5,scoring=\"r2\").mean())\n",
    "print(\"Standard deviation in r2 score for ada boosting Regression: \",cross_val_score(add_reg6,X,Y,cv=5,scoring=\"r2\").std())"
   ]
  },
  {
   "cell_type": "code",
   "execution_count": 228,
   "metadata": {},
   "outputs": [
    {
     "data": {
      "text/plain": [
       "['Advertising.pkl']"
      ]
     },
     "execution_count": 228,
     "metadata": {},
     "output_type": "execute_result"
    }
   ],
   "source": [
    "#Lets save the above model\n",
    "from sklearn.externals import joblib\n",
    "\n",
    "#Save the model as pickle in a file\n",
    "joblib.dump(add_reg6,'Advertising.pkl')"
   ]
  },
  {
   "cell_type": "code",
   "execution_count": null,
   "metadata": {},
   "outputs": [],
   "source": []
  }
 ],
 "metadata": {
  "kernelspec": {
   "display_name": "Python 3",
   "language": "python",
   "name": "python3"
  },
  "language_info": {
   "codemirror_mode": {
    "name": "ipython",
    "version": 3
   },
   "file_extension": ".py",
   "mimetype": "text/x-python",
   "name": "python",
   "nbconvert_exporter": "python",
   "pygments_lexer": "ipython3",
   "version": "3.8.5"
  }
 },
 "nbformat": 4,
 "nbformat_minor": 2
}
